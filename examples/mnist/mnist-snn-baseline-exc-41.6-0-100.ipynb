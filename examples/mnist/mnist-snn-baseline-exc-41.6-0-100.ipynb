{
 "cells": [
  {
   "cell_type": "code",
   "execution_count": 1,
   "metadata": {},
   "outputs": [
    {
     "name": "stderr",
     "output_type": "stream",
     "text": [
      "\n",
      "Bad key \"text.kerning_factor\" on line 4 in\n",
      "/home/junde/miniconda3/envs/kongsr/lib/python3.7/site-packages/matplotlib/mpl-data/stylelib/_classic_test_patch.mplstyle.\n",
      "You probably need to get an updated matplotlibrc file from\n",
      "https://github.com/matplotlib/matplotlib/blob/v3.1.3/matplotlibrc.template\n",
      "or from the matplotlib source distribution\n"
     ]
    }
   ],
   "source": [
    "import os\n",
    "import torch\n",
    "import argparse\n",
    "import numpy as np\n",
    "import matplotlib.pyplot as plt\n",
    "\n",
    "from torchvision import transforms\n",
    "from tqdm import tqdm\n",
    "\n",
    "from time import time as t\n",
    "import sys\n",
    "sys.path.append('../../bindsnet')\n",
    "from network import Network\n",
    "\n",
    "from bindsnet import ROOT_DIR\n",
    "from bindsnet.datasets import MNIST, DataLoader\n",
    "from bindsnet.encoding import PoissonEncoder\n",
    "from bindsnet.evaluation import (\n",
    "    all_activity,\n",
    "    proportion_weighting,\n",
    "    assign_labels,\n",
    ")\n",
    "# from bindsnet.models import DiehlAndCook2015\n",
    "from bindsnet.network.monitors import Monitor\n",
    "from bindsnet.utils import get_square_weights, get_square_assignments\n",
    "from bindsnet.analysis.plotting import (\n",
    "    plot_input,\n",
    "    plot_spikes,\n",
    "    plot_weights,\n",
    "    plot_performance,\n",
    "    plot_assignments,\n",
    "    plot_voltages,\n",
    ")\n",
    "from typing import Optional, Union, Tuple, List, Sequence, Iterable\n",
    "from network.nodes import Input, LIFNodes, DiehlAndCookNodes, AdaptiveLIFNodes\n",
    "from network.topology import Connection, LocalConnection\n",
    "from learning import PostPre"
   ]
  },
  {
   "cell_type": "code",
   "execution_count": 2,
   "metadata": {},
   "outputs": [],
   "source": [
    "parser = argparse.ArgumentParser()\n",
    "parser.add_argument(\"--seed\", type=int, default=0)\n",
    "parser.add_argument(\"--n_neurons\", type=int, default=100)\n",
    "parser.add_argument(\"--batch_size\", type=int, default=32)\n",
    "parser.add_argument(\"--n_epochs\", type=int, default=1)\n",
    "parser.add_argument(\"--n_test\", type=int, default=10000)\n",
    "parser.add_argument(\"--n_train\", type=int, default=1000)\n",
    "parser.add_argument(\"--n_workers\", type=int, default=-1)\n",
    "parser.add_argument(\"--update_steps\", type=int, default=16)\n",
    "parser.add_argument(\"--exc\", type=float, default=22.5)\n",
    "parser.add_argument(\"--inh\", type=float, default=120)\n",
    "parser.add_argument(\"--theta_plus\", type=float, default=0.05)\n",
    "parser.add_argument(\"--time\", type=int, default=100)\n",
    "parser.add_argument(\"--dt\", type=int, default=1.0)\n",
    "parser.add_argument(\"--intensity\", type=float, default=128)\n",
    "parser.add_argument(\"--progress_interval\", type=int, default=10)\n",
    "parser.add_argument(\"--train\", dest=\"train\", action=\"store_true\")\n",
    "parser.add_argument(\"--test\", dest=\"train\", action=\"store_false\")\n",
    "parser.add_argument(\"--plot\", dest=\"plot\", action=\"store_true\")\n",
    "parser.add_argument(\"--gpu\", dest=\"gpu\", action=\"store_true\")\n",
    "parser.set_defaults(plot=True, gpu=False)\n",
    "\n",
    "args = parser.parse_known_args()[0]"
   ]
  },
  {
   "cell_type": "code",
   "execution_count": 3,
   "metadata": {},
   "outputs": [
    {
     "name": "stdout",
     "output_type": "stream",
     "text": [
      "Running on Device =  cpu\n"
     ]
    }
   ],
   "source": [
    "seed = args.seed\n",
    "n_neurons = args.n_neurons\n",
    "batch_size = args.batch_size\n",
    "n_epochs = args.n_epochs\n",
    "n_test = args.n_test\n",
    "n_train = args.n_train\n",
    "n_workers = args.n_workers\n",
    "update_steps = args.update_steps\n",
    "exc = args.exc\n",
    "inh = args.inh\n",
    "theta_plus = args.theta_plus\n",
    "time = args.time\n",
    "dt = args.dt\n",
    "intensity = args.intensity\n",
    "progress_interval = args.progress_interval\n",
    "train = args.train\n",
    "plot = args.plot\n",
    "gpu = args.gpu\n",
    "\n",
    "update_interval = update_steps * batch_size\n",
    "\n",
    "# Sets up Gpu use\n",
    "device = torch.device(\"cuda\" if torch.cuda.is_available() else \"cpu\")\n",
    "if gpu and torch.cuda.is_available():\n",
    "    torch.cuda.manual_seed_all(seed)\n",
    "else:\n",
    "    torch.manual_seed(seed)\n",
    "    device = \"cpu\"\n",
    "    if gpu:\n",
    "        gpu = False\n",
    "\n",
    "torch.set_num_threads(os.cpu_count() - 1)\n",
    "print(\"Running on Device = \", device)"
   ]
  },
  {
   "cell_type": "code",
   "execution_count": 4,
   "metadata": {},
   "outputs": [],
   "source": [
    "p1 = 0.0\n",
    "p2 = 1\n",
    "class DiehlAndCook2015(Network):\n",
    "    # language=rst\n",
    "    \"\"\"\n",
    "    Implements the spiking neural network architecture from `(Diehl & Cook 2015)\n",
    "    <https://www.frontiersin.org/articles/10.3389/fncom.2015.00099/full>`_.\n",
    "    \"\"\"\n",
    "\n",
    "    def __init__(\n",
    "        self,\n",
    "        n_inpt: int,\n",
    "        n_neurons: int = 100,\n",
    "        exc: float = 22.5,\n",
    "        inh: float = 17.5,\n",
    "        dt: float = 1.0,\n",
    "        nu: Optional[Union[float, Sequence[float]]] = (1e-4, 1e-2),\n",
    "        reduction: Optional[callable] = None,\n",
    "        wmin: float = 0.0,\n",
    "        wmax: float = 1.0,\n",
    "        norm: float = 78.4,\n",
    "        theta_plus: float = 0.05,\n",
    "        tc_theta_decay: float = 1e7,\n",
    "        inpt_shape: Optional[Iterable[int]] = None,\n",
    "    ) -> None:\n",
    "        # language=rst\n",
    "        \"\"\"\n",
    "        Constructor for class ``DiehlAndCook2015``.\n",
    "\n",
    "        :param n_inpt: Number of input neurons. Matches the 1D size of the input data.\n",
    "        :param n_neurons: Number of excitatory, inhibitory neurons.\n",
    "        :param exc: Strength of synapse weights from excitatory to inhibitory layer.\n",
    "        :param inh: Strength of synapse weights from inhibitory to excitatory layer.\n",
    "        :param dt: Simulation time step.\n",
    "        :param nu: Single or pair of learning rates for pre- and post-synaptic events,\n",
    "            respectively.\n",
    "        :param reduction: Method for reducing parameter updates along the minibatch\n",
    "            dimension.\n",
    "        :param wmin: Minimum allowed weight on input to excitatory synapses.\n",
    "        :param wmax: Maximum allowed weight on input to excitatory synapses.\n",
    "        :param norm: Input to excitatory layer connection weights normalization\n",
    "            constant.\n",
    "        :param theta_plus: On-spike increment of ``DiehlAndCookNodes`` membrane\n",
    "            threshold potential.\n",
    "        :param tc_theta_decay: Time constant of ``DiehlAndCookNodes`` threshold\n",
    "            potential decay.\n",
    "        :param inpt_shape: The dimensionality of the input layer.\n",
    "        \"\"\"\n",
    "        super().__init__(dt=dt)\n",
    "\n",
    "        self.n_inpt = n_inpt\n",
    "        self.inpt_shape = inpt_shape\n",
    "        self.n_neurons = n_neurons\n",
    "        self.exc = exc\n",
    "        self.inh = inh\n",
    "        self.dt = dt\n",
    "\n",
    "        # Layers\n",
    "        input_layer = Input(\n",
    "            n=self.n_inpt, shape=self.inpt_shape, traces=True, tc_trace=20.0\n",
    "        )\n",
    "        exc_layer_1 = DiehlAndCookNodes(\n",
    "            n=int(self.n_neurons*p1),\n",
    "            traces=True,\n",
    "            rest=-65.0,\n",
    "            reset=-60.0,\n",
    "            thresh=-52.0,\n",
    "            refrac=5,\n",
    "            tc_decay=100.0,\n",
    "            tc_trace=20.0,\n",
    "            theta_plus=theta_plus,\n",
    "            tc_theta_decay=tc_theta_decay,\n",
    "        )\n",
    "        \n",
    "        exc_layer_2 = DiehlAndCookNodes(\n",
    "            n=int(self.n_neurons*p2),\n",
    "            traces=True,\n",
    "            rest=-65.0,\n",
    "            reset=-60.0,\n",
    "            thresh=-41.6,\n",
    "            refrac=5,\n",
    "            tc_decay=100.0,\n",
    "            tc_trace=20.0,\n",
    "            theta_plus=theta_plus,\n",
    "            tc_theta_decay=tc_theta_decay,\n",
    "        )\n",
    "        \n",
    "        inh_layer = LIFNodes(\n",
    "            n=self.n_neurons,\n",
    "            traces=False,\n",
    "            rest=-60.0,\n",
    "            reset=-45.0,\n",
    "            thresh=-40.0,\n",
    "            tc_decay=10.0,\n",
    "            refrac=2,\n",
    "            tc_trace=20.0,\n",
    "        )\n",
    "\n",
    "        # Connections\n",
    "        w = 0.3 * torch.rand(self.n_inpt, self.n_neurons)\n",
    "        input_exc_conn_1 = Connection(\n",
    "            source=input_layer,\n",
    "            target=exc_layer_1,\n",
    "            w=w[:, :int(self.n_neurons*p1)],\n",
    "            update_rule=PostPre,\n",
    "            nu=nu,\n",
    "            reduction=reduction,\n",
    "            wmin=wmin,\n",
    "            wmax=wmax,\n",
    "            norm=norm,\n",
    "        )\n",
    "        input_exc_conn_2 = Connection(\n",
    "            source=input_layer,\n",
    "            target=exc_layer_2,\n",
    "            w=w[:, int(self.n_neurons*p1):],\n",
    "            update_rule=PostPre,\n",
    "            nu=nu,\n",
    "            reduction=reduction,\n",
    "            wmin=wmin,\n",
    "            wmax=wmax,\n",
    "            norm=norm,\n",
    "        )\n",
    "        \n",
    "        w = self.exc * torch.diag(torch.ones(self.n_neurons))\n",
    "        exc_inh_conn_1 = Connection(\n",
    "            source=exc_layer_1, target=inh_layer, w=w[:int(self.n_neurons*p1), :], wmin=0, wmax=self.exc\n",
    "        )\n",
    "        exc_inh_conn_2 = Connection(\n",
    "            source=exc_layer_2, target=inh_layer, w=w[int(self.n_neurons*p1):, :], wmin=0, wmax=self.exc\n",
    "        )\n",
    "        \n",
    "        w = -self.inh * (\n",
    "            torch.ones(self.n_neurons, self.n_neurons)\n",
    "            - torch.diag(torch.ones(self.n_neurons))\n",
    "        )\n",
    "        inh_exc_conn_1 = Connection(\n",
    "            source=inh_layer, target=exc_layer_1, w=w[:, :int(self.n_neurons*p1)], wmin=-self.inh, wmax=0\n",
    "        )\n",
    "        inh_exc_conn_2 = Connection(\n",
    "            source=inh_layer, target=exc_layer_2, w=w[:, int(self.n_neurons*p1):], wmin=-self.inh, wmax=0\n",
    "        )\n",
    "\n",
    "\n",
    "        # Add to network\n",
    "        self.add_layer(input_layer, name=\"X\")\n",
    "        self.add_layer(exc_layer_1, name=\"Ae1\")\n",
    "        self.add_layer(exc_layer_2, name=\"Ae2\")\n",
    "        self.add_layer(inh_layer, name=\"Ai\")\n",
    "        self.add_connection(input_exc_conn_1, source=\"X\", target=\"Ae1\")\n",
    "        self.add_connection(input_exc_conn_2, source=\"X\", target=\"Ae2\")\n",
    "        \n",
    "        self.add_connection(exc_inh_conn_1, source=\"Ae1\", target=\"Ai\")\n",
    "        self.add_connection(exc_inh_conn_2, source=\"Ae2\", target=\"Ai\")\n",
    "        self.add_connection(inh_exc_conn_1, source=\"Ai\", target=\"Ae1\")\n",
    "        self.add_connection(inh_exc_conn_2, source=\"Ai\", target=\"Ae2\")"
   ]
  },
  {
   "cell_type": "code",
   "execution_count": 5,
   "metadata": {},
   "outputs": [],
   "source": [
    "# Determines number of workers to use\n",
    "if n_workers == -1:\n",
    "    n_workers = gpu * 4 * torch.cuda.device_count()\n",
    "\n",
    "n_sqrt = int(np.ceil(np.sqrt(n_neurons)))\n",
    "start_intensity = intensity\n",
    "\n",
    "# Build network.\n",
    "network = DiehlAndCook2015(\n",
    "    n_inpt=784,\n",
    "    n_neurons=n_neurons,\n",
    "    exc=exc,\n",
    "    inh=inh,\n",
    "    dt=dt,\n",
    "    norm=78.4,\n",
    "    nu=(1e-4, 1e-2),\n",
    "    theta_plus=theta_plus,\n",
    "    inpt_shape=(1, 28, 28),\n",
    ")\n",
    "\n",
    "# Directs network to GPU\n",
    "if gpu:\n",
    "    network.to(\"cuda\")"
   ]
  },
  {
   "cell_type": "code",
   "execution_count": 6,
   "metadata": {
    "scrolled": true
   },
   "outputs": [],
   "source": [
    "# Load MNIST data.\n",
    "dataset = MNIST(\n",
    "    PoissonEncoder(time=time, dt=dt),\n",
    "    None,\n",
    "    root=os.path.join(ROOT_DIR, \"data\", \"MNIST\"),\n",
    "    download=True,\n",
    "    transform=transforms.Compose(\n",
    "        [transforms.ToTensor(), transforms.Lambda(lambda x: x * intensity)]\n",
    "    ),\n",
    ")"
   ]
  },
  {
   "cell_type": "code",
   "execution_count": 7,
   "metadata": {},
   "outputs": [],
   "source": [
    "# Neuron assignments and spike proportions.\n",
    "n_classes = 10\n",
    "assignments = -torch.ones(n_neurons, device=device)\n",
    "proportions = torch.zeros((n_neurons, n_classes), device=device)\n",
    "rates = torch.zeros((n_neurons, n_classes), device=device)\n",
    "\n",
    "# Sequence of accuracy estimates.\n",
    "accuracy = {\"all\": [], \"proportion\": []}\n",
    "\n",
    "# Voltage recording for excitatory and inhibitory layers.\n",
    "exc_voltage_monitor_1 = Monitor(network.layers[\"Ae1\"], [\"v\"], time=int(time / dt))\n",
    "exc_voltage_monitor_2 = Monitor(network.layers[\"Ae2\"], [\"v\"], time=int(time / dt))\n",
    "inh_voltage_monitor = Monitor(network.layers[\"Ai\"], [\"v\"], time=int(time / dt))\n",
    "network.add_monitor(exc_voltage_monitor_1, name=\"exc_voltage_1\")\n",
    "network.add_monitor(exc_voltage_monitor_2, name=\"exc_voltage_2\")\n",
    "network.add_monitor(inh_voltage_monitor, name=\"inh_voltage\")\n",
    "\n",
    "# Set up monitors for spikes and voltages\n",
    "spikes = {}\n",
    "for layer in set(network.layers):\n",
    "    spikes[layer] = Monitor(\n",
    "        network.layers[layer], state_vars=[\"s\"], time=int(time / dt)\n",
    "    )\n",
    "    network.add_monitor(spikes[layer], name=\"%s_spikes\" % layer)\n",
    "\n",
    "voltages = {}\n",
    "for layer in set(network.layers) - {\"X\"}:\n",
    "    voltages[layer] = Monitor(\n",
    "        network.layers[layer], state_vars=[\"v\"], time=int(time / dt)\n",
    "    )\n",
    "    network.add_monitor(voltages[layer], name=\"%s_voltages\" % layer)\n",
    "\n",
    "inpt_ims, inpt_axes = None, None\n",
    "spike_ims, spike_axes = None, None\n",
    "weights_im = None\n",
    "assigns_im = None\n",
    "perf_ax = None\n",
    "voltage_axes, voltage_ims = None, None\n",
    "\n",
    "spike_record = torch.zeros((update_interval, int(time / dt), n_neurons), device=device)"
   ]
  },
  {
   "cell_type": "code",
   "execution_count": 8,
   "metadata": {
    "scrolled": true
   },
   "outputs": [
    {
     "name": "stderr",
     "output_type": "stream",
     "text": [
      "\r",
      "  0%|          | 0/1000 [00:00<?, ?it/s]"
     ]
    },
    {
     "name": "stdout",
     "output_type": "stream",
     "text": [
      "\n",
      "Begin training.\n",
      "\n",
      "\n",
      " Progress: 0 / 1 (0.0003 seconds)\n"
     ]
    },
    {
     "name": "stderr",
     "output_type": "stream",
     "text": [
      "  2%|▏         | 16/1000 [00:10<10:17,  1.59it/s]"
     ]
    },
    {
     "name": "stdout",
     "output_type": "stream",
     "text": [
      "\n",
      "All activity accuracy: 8.59 (last), 8.59 (average), 8.59 (best)\n",
      "Proportion weighting accuracy: 8.59 (last), 8.59 (average), 8.59 (best)\n",
      "\n"
     ]
    },
    {
     "name": "stderr",
     "output_type": "stream",
     "text": [
      "  3%|▎         | 32/1000 [00:20<09:50,  1.64it/s]"
     ]
    },
    {
     "name": "stdout",
     "output_type": "stream",
     "text": [
      "\n",
      "All activity accuracy: 12.89 (last), 10.74 (average), 12.89 (best)\n",
      "Proportion weighting accuracy: 13.87 (last), 11.23 (average), 13.87 (best)\n",
      "\n"
     ]
    },
    {
     "name": "stderr",
     "output_type": "stream",
     "text": [
      "  5%|▍         | 48/1000 [00:30<10:01,  1.58it/s]"
     ]
    },
    {
     "name": "stdout",
     "output_type": "stream",
     "text": [
      "\n",
      "All activity accuracy: 20.51 (last), 14.00 (average), 20.51 (best)\n",
      "Proportion weighting accuracy: 19.34 (last), 13.93 (average), 19.34 (best)\n",
      "\n"
     ]
    },
    {
     "name": "stderr",
     "output_type": "stream",
     "text": [
      "  6%|▋         | 64/1000 [00:40<10:13,  1.53it/s]"
     ]
    },
    {
     "name": "stdout",
     "output_type": "stream",
     "text": [
      "\n",
      "All activity accuracy: 26.56 (last), 17.14 (average), 26.56 (best)\n",
      "Proportion weighting accuracy: 24.61 (last), 16.60 (average), 24.61 (best)\n",
      "\n"
     ]
    },
    {
     "name": "stderr",
     "output_type": "stream",
     "text": [
      "  8%|▊         | 80/1000 [00:50<09:43,  1.58it/s]"
     ]
    },
    {
     "name": "stdout",
     "output_type": "stream",
     "text": [
      "\n",
      "All activity accuracy: 29.88 (last), 19.69 (average), 29.88 (best)\n",
      "Proportion weighting accuracy: 29.69 (last), 19.22 (average), 29.69 (best)\n",
      "\n"
     ]
    },
    {
     "name": "stderr",
     "output_type": "stream",
     "text": [
      " 10%|▉         | 96/1000 [01:00<09:17,  1.62it/s]"
     ]
    },
    {
     "name": "stdout",
     "output_type": "stream",
     "text": [
      "\n",
      "All activity accuracy: 28.12 (last), 21.09 (average), 29.88 (best)\n",
      "Proportion weighting accuracy: 27.34 (last), 20.57 (average), 29.69 (best)\n",
      "\n"
     ]
    },
    {
     "name": "stderr",
     "output_type": "stream",
     "text": [
      " 11%|█         | 112/1000 [01:10<09:12,  1.61it/s]"
     ]
    },
    {
     "name": "stdout",
     "output_type": "stream",
     "text": [
      "\n",
      "All activity accuracy: 24.80 (last), 21.62 (average), 29.88 (best)\n",
      "Proportion weighting accuracy: 24.22 (last), 21.09 (average), 29.69 (best)\n",
      "\n"
     ]
    },
    {
     "name": "stderr",
     "output_type": "stream",
     "text": [
      " 13%|█▎        | 128/1000 [01:20<08:57,  1.62it/s]"
     ]
    },
    {
     "name": "stdout",
     "output_type": "stream",
     "text": [
      "\n",
      "All activity accuracy: 29.69 (last), 22.63 (average), 29.88 (best)\n",
      "Proportion weighting accuracy: 28.91 (last), 22.07 (average), 29.69 (best)\n",
      "\n"
     ]
    },
    {
     "name": "stderr",
     "output_type": "stream",
     "text": [
      " 14%|█▍        | 144/1000 [01:30<09:14,  1.54it/s]"
     ]
    },
    {
     "name": "stdout",
     "output_type": "stream",
     "text": [
      "\n",
      "All activity accuracy: 34.38 (last), 23.94 (average), 34.38 (best)\n",
      "Proportion weighting accuracy: 32.42 (last), 23.22 (average), 32.42 (best)\n",
      "\n"
     ]
    },
    {
     "name": "stderr",
     "output_type": "stream",
     "text": [
      " 16%|█▌        | 160/1000 [01:40<08:58,  1.56it/s]"
     ]
    },
    {
     "name": "stdout",
     "output_type": "stream",
     "text": [
      "\n",
      "All activity accuracy: 24.80 (last), 24.02 (average), 34.38 (best)\n",
      "Proportion weighting accuracy: 24.02 (last), 23.30 (average), 32.42 (best)\n",
      "\n"
     ]
    },
    {
     "name": "stderr",
     "output_type": "stream",
     "text": [
      " 18%|█▊        | 176/1000 [01:50<08:25,  1.63it/s]"
     ]
    },
    {
     "name": "stdout",
     "output_type": "stream",
     "text": [
      "\n",
      "All activity accuracy: 33.01 (last), 24.84 (average), 34.38 (best)\n",
      "Proportion weighting accuracy: 32.23 (last), 24.11 (average), 32.42 (best)\n",
      "\n"
     ]
    },
    {
     "name": "stderr",
     "output_type": "stream",
     "text": [
      " 19%|█▉        | 192/1000 [02:01<09:12,  1.46it/s]"
     ]
    },
    {
     "name": "stdout",
     "output_type": "stream",
     "text": [
      "\n",
      "All activity accuracy: 34.38 (last), 25.63 (average), 34.38 (best)\n",
      "Proportion weighting accuracy: 33.01 (last), 24.85 (average), 33.01 (best)\n",
      "\n"
     ]
    },
    {
     "name": "stderr",
     "output_type": "stream",
     "text": [
      " 21%|██        | 208/1000 [02:11<08:28,  1.56it/s]"
     ]
    },
    {
     "name": "stdout",
     "output_type": "stream",
     "text": [
      "\n",
      "All activity accuracy: 27.73 (last), 25.80 (average), 34.38 (best)\n",
      "Proportion weighting accuracy: 27.34 (last), 25.05 (average), 33.01 (best)\n",
      "\n"
     ]
    },
    {
     "name": "stderr",
     "output_type": "stream",
     "text": [
      " 22%|██▏       | 224/1000 [02:21<07:57,  1.62it/s]"
     ]
    },
    {
     "name": "stdout",
     "output_type": "stream",
     "text": [
      "\n",
      "All activity accuracy: 34.77 (last), 26.44 (average), 34.77 (best)\n",
      "Proportion weighting accuracy: 36.13 (last), 25.84 (average), 36.13 (best)\n",
      "\n"
     ]
    },
    {
     "name": "stderr",
     "output_type": "stream",
     "text": [
      " 24%|██▍       | 240/1000 [02:34<11:11,  1.13it/s]"
     ]
    },
    {
     "name": "stdout",
     "output_type": "stream",
     "text": [
      "\n",
      "All activity accuracy: 35.55 (last), 27.04 (average), 35.55 (best)\n",
      "Proportion weighting accuracy: 35.16 (last), 26.46 (average), 36.13 (best)\n",
      "\n"
     ]
    },
    {
     "name": "stderr",
     "output_type": "stream",
     "text": [
      " 26%|██▌       | 256/1000 [02:46<09:05,  1.36it/s]"
     ]
    },
    {
     "name": "stdout",
     "output_type": "stream",
     "text": [
      "\n",
      "All activity accuracy: 37.30 (last), 27.69 (average), 37.30 (best)\n",
      "Proportion weighting accuracy: 41.21 (last), 27.38 (average), 41.21 (best)\n",
      "\n"
     ]
    },
    {
     "name": "stderr",
     "output_type": "stream",
     "text": [
      " 27%|██▋       | 272/1000 [02:57<08:49,  1.37it/s]"
     ]
    },
    {
     "name": "stdout",
     "output_type": "stream",
     "text": [
      "\n",
      "All activity accuracy: 66.80 (last), 29.99 (average), 66.80 (best)\n",
      "Proportion weighting accuracy: 67.97 (last), 29.77 (average), 67.97 (best)\n",
      "\n"
     ]
    },
    {
     "name": "stderr",
     "output_type": "stream",
     "text": [
      " 29%|██▉       | 288/1000 [03:07<07:36,  1.56it/s]"
     ]
    },
    {
     "name": "stdout",
     "output_type": "stream",
     "text": [
      "\n",
      "All activity accuracy: 66.60 (last), 32.02 (average), 66.80 (best)\n",
      "Proportion weighting accuracy: 67.58 (last), 31.87 (average), 67.97 (best)\n",
      "\n"
     ]
    },
    {
     "name": "stderr",
     "output_type": "stream",
     "text": [
      " 30%|███       | 304/1000 [03:18<07:38,  1.52it/s]"
     ]
    },
    {
     "name": "stdout",
     "output_type": "stream",
     "text": [
      "\n",
      "All activity accuracy: 70.70 (last), 34.06 (average), 70.70 (best)\n",
      "Proportion weighting accuracy: 72.85 (last), 34.03 (average), 72.85 (best)\n",
      "\n"
     ]
    },
    {
     "name": "stderr",
     "output_type": "stream",
     "text": [
      " 32%|███▏      | 320/1000 [03:28<07:15,  1.56it/s]"
     ]
    },
    {
     "name": "stdout",
     "output_type": "stream",
     "text": [
      "\n",
      "All activity accuracy: 73.63 (last), 36.04 (average), 73.63 (best)\n",
      "Proportion weighting accuracy: 74.41 (last), 36.04 (average), 74.41 (best)\n",
      "\n"
     ]
    },
    {
     "name": "stderr",
     "output_type": "stream",
     "text": [
      " 34%|███▎      | 336/1000 [03:38<06:52,  1.61it/s]"
     ]
    },
    {
     "name": "stdout",
     "output_type": "stream",
     "text": [
      "\n",
      "All activity accuracy: 71.48 (last), 37.72 (average), 73.63 (best)\n",
      "Proportion weighting accuracy: 74.02 (last), 37.85 (average), 74.41 (best)\n",
      "\n"
     ]
    },
    {
     "name": "stderr",
     "output_type": "stream",
     "text": [
      " 35%|███▌      | 352/1000 [03:48<06:44,  1.60it/s]"
     ]
    },
    {
     "name": "stdout",
     "output_type": "stream",
     "text": [
      "\n",
      "All activity accuracy: 73.63 (last), 39.36 (average), 73.63 (best)\n",
      "Proportion weighting accuracy: 75.39 (last), 39.56 (average), 75.39 (best)\n",
      "\n"
     ]
    },
    {
     "name": "stderr",
     "output_type": "stream",
     "text": [
      " 37%|███▋      | 368/1000 [03:58<06:39,  1.58it/s]"
     ]
    },
    {
     "name": "stdout",
     "output_type": "stream",
     "text": [
      "\n",
      "All activity accuracy: 75.78 (last), 40.94 (average), 75.78 (best)\n",
      "Proportion weighting accuracy: 76.95 (last), 41.19 (average), 76.95 (best)\n",
      "\n"
     ]
    },
    {
     "name": "stderr",
     "output_type": "stream",
     "text": [
      " 38%|███▊      | 384/1000 [04:08<06:23,  1.61it/s]"
     ]
    },
    {
     "name": "stdout",
     "output_type": "stream",
     "text": [
      "\n",
      "All activity accuracy: 74.22 (last), 42.33 (average), 75.78 (best)\n",
      "Proportion weighting accuracy: 75.59 (last), 42.62 (average), 76.95 (best)\n",
      "\n"
     ]
    },
    {
     "name": "stderr",
     "output_type": "stream",
     "text": [
      " 40%|████      | 400/1000 [04:18<06:18,  1.59it/s]"
     ]
    },
    {
     "name": "stdout",
     "output_type": "stream",
     "text": [
      "\n",
      "All activity accuracy: 76.17 (last), 43.68 (average), 76.17 (best)\n",
      "Proportion weighting accuracy: 78.32 (last), 44.05 (average), 78.32 (best)\n",
      "\n"
     ]
    },
    {
     "name": "stderr",
     "output_type": "stream",
     "text": [
      " 42%|████▏     | 416/1000 [04:28<06:11,  1.57it/s]"
     ]
    },
    {
     "name": "stdout",
     "output_type": "stream",
     "text": [
      "\n",
      "All activity accuracy: 76.76 (last), 44.95 (average), 76.76 (best)\n",
      "Proportion weighting accuracy: 78.32 (last), 45.37 (average), 78.32 (best)\n",
      "\n"
     ]
    },
    {
     "name": "stderr",
     "output_type": "stream",
     "text": [
      " 43%|████▎     | 432/1000 [04:38<05:52,  1.61it/s]"
     ]
    },
    {
     "name": "stdout",
     "output_type": "stream",
     "text": [
      "\n",
      "All activity accuracy: 75.20 (last), 46.07 (average), 76.76 (best)\n",
      "Proportion weighting accuracy: 78.91 (last), 46.61 (average), 78.91 (best)\n",
      "\n"
     ]
    },
    {
     "name": "stderr",
     "output_type": "stream",
     "text": [
      " 45%|████▍     | 448/1000 [04:49<05:47,  1.59it/s]"
     ]
    },
    {
     "name": "stdout",
     "output_type": "stream",
     "text": [
      "\n",
      "All activity accuracy: 77.73 (last), 47.20 (average), 77.73 (best)\n",
      "Proportion weighting accuracy: 80.27 (last), 47.81 (average), 80.27 (best)\n",
      "\n"
     ]
    },
    {
     "name": "stderr",
     "output_type": "stream",
     "text": [
      " 46%|████▋     | 464/1000 [04:59<05:26,  1.64it/s]"
     ]
    },
    {
     "name": "stdout",
     "output_type": "stream",
     "text": [
      "\n",
      "All activity accuracy: 78.52 (last), 48.28 (average), 78.52 (best)\n",
      "Proportion weighting accuracy: 79.69 (last), 48.91 (average), 80.27 (best)\n",
      "\n"
     ]
    },
    {
     "name": "stderr",
     "output_type": "stream",
     "text": [
      " 48%|████▊     | 480/1000 [05:09<05:27,  1.59it/s]"
     ]
    },
    {
     "name": "stdout",
     "output_type": "stream",
     "text": [
      "\n",
      "All activity accuracy: 74.61 (last), 49.16 (average), 78.52 (best)\n",
      "Proportion weighting accuracy: 76.95 (last), 49.84 (average), 80.27 (best)\n",
      "\n"
     ]
    },
    {
     "name": "stderr",
     "output_type": "stream",
     "text": [
      " 50%|████▉     | 496/1000 [05:18<05:05,  1.65it/s]"
     ]
    },
    {
     "name": "stdout",
     "output_type": "stream",
     "text": [
      "\n",
      "All activity accuracy: 82.81 (last), 50.25 (average), 82.81 (best)\n",
      "Proportion weighting accuracy: 84.57 (last), 50.96 (average), 84.57 (best)\n",
      "\n"
     ]
    },
    {
     "name": "stderr",
     "output_type": "stream",
     "text": [
      " 51%|█████     | 512/1000 [05:29<05:24,  1.50it/s]"
     ]
    },
    {
     "name": "stdout",
     "output_type": "stream",
     "text": [
      "\n",
      "All activity accuracy: 81.45 (last), 51.22 (average), 82.81 (best)\n",
      "Proportion weighting accuracy: 83.20 (last), 51.97 (average), 84.57 (best)\n",
      "\n"
     ]
    },
    {
     "name": "stderr",
     "output_type": "stream",
     "text": [
      " 53%|█████▎    | 528/1000 [05:38<04:42,  1.67it/s]"
     ]
    },
    {
     "name": "stdout",
     "output_type": "stream",
     "text": [
      "\n",
      "All activity accuracy: 79.69 (last), 52.08 (average), 82.81 (best)\n",
      "Proportion weighting accuracy: 78.91 (last), 52.79 (average), 84.57 (best)\n",
      "\n"
     ]
    },
    {
     "name": "stderr",
     "output_type": "stream",
     "text": [
      " 54%|█████▍    | 544/1000 [05:48<04:41,  1.62it/s]"
     ]
    },
    {
     "name": "stdout",
     "output_type": "stream",
     "text": [
      "\n",
      "All activity accuracy: 80.08 (last), 52.91 (average), 82.81 (best)\n",
      "Proportion weighting accuracy: 81.64 (last), 53.64 (average), 84.57 (best)\n",
      "\n"
     ]
    },
    {
     "name": "stderr",
     "output_type": "stream",
     "text": [
      " 56%|█████▌    | 560/1000 [05:58<04:31,  1.62it/s]"
     ]
    },
    {
     "name": "stdout",
     "output_type": "stream",
     "text": [
      "\n",
      "All activity accuracy: 80.08 (last), 53.68 (average), 82.81 (best)\n",
      "Proportion weighting accuracy: 81.84 (last), 54.44 (average), 84.57 (best)\n",
      "\n"
     ]
    },
    {
     "name": "stderr",
     "output_type": "stream",
     "text": [
      " 58%|█████▊    | 576/1000 [06:08<04:19,  1.63it/s]"
     ]
    },
    {
     "name": "stdout",
     "output_type": "stream",
     "text": [
      "\n",
      "All activity accuracy: 79.69 (last), 54.41 (average), 82.81 (best)\n",
      "Proportion weighting accuracy: 81.45 (last), 55.19 (average), 84.57 (best)\n",
      "\n"
     ]
    },
    {
     "name": "stderr",
     "output_type": "stream",
     "text": [
      " 59%|█████▉    | 592/1000 [06:18<04:12,  1.62it/s]"
     ]
    },
    {
     "name": "stdout",
     "output_type": "stream",
     "text": [
      "\n",
      "All activity accuracy: 79.30 (last), 55.08 (average), 82.81 (best)\n",
      "Proportion weighting accuracy: 81.84 (last), 55.91 (average), 84.57 (best)\n",
      "\n"
     ]
    },
    {
     "name": "stderr",
     "output_type": "stream",
     "text": [
      " 61%|██████    | 608/1000 [06:28<04:02,  1.62it/s]"
     ]
    },
    {
     "name": "stdout",
     "output_type": "stream",
     "text": [
      "\n",
      "All activity accuracy: 79.88 (last), 55.73 (average), 82.81 (best)\n",
      "Proportion weighting accuracy: 81.64 (last), 56.59 (average), 84.57 (best)\n",
      "\n"
     ]
    },
    {
     "name": "stderr",
     "output_type": "stream",
     "text": [
      " 62%|██████▏   | 624/1000 [06:38<03:51,  1.62it/s]"
     ]
    },
    {
     "name": "stdout",
     "output_type": "stream",
     "text": [
      "\n",
      "All activity accuracy: 81.84 (last), 56.40 (average), 82.81 (best)\n",
      "Proportion weighting accuracy: 84.38 (last), 57.30 (average), 84.57 (best)\n",
      "\n"
     ]
    },
    {
     "name": "stderr",
     "output_type": "stream",
     "text": [
      " 64%|██████▍   | 640/1000 [06:48<03:40,  1.63it/s]"
     ]
    },
    {
     "name": "stdout",
     "output_type": "stream",
     "text": [
      "\n",
      "All activity accuracy: 80.86 (last), 57.01 (average), 82.81 (best)\n",
      "Proportion weighting accuracy: 82.42 (last), 57.93 (average), 84.57 (best)\n",
      "\n"
     ]
    },
    {
     "name": "stderr",
     "output_type": "stream",
     "text": [
      " 66%|██████▌   | 656/1000 [06:58<03:40,  1.56it/s]"
     ]
    },
    {
     "name": "stdout",
     "output_type": "stream",
     "text": [
      "\n",
      "All activity accuracy: 81.25 (last), 57.60 (average), 82.81 (best)\n",
      "Proportion weighting accuracy: 83.20 (last), 58.55 (average), 84.57 (best)\n",
      "\n"
     ]
    },
    {
     "name": "stderr",
     "output_type": "stream",
     "text": [
      " 67%|██████▋   | 672/1000 [07:08<03:35,  1.52it/s]"
     ]
    },
    {
     "name": "stdout",
     "output_type": "stream",
     "text": [
      "\n",
      "All activity accuracy: 82.62 (last), 58.20 (average), 82.81 (best)\n",
      "Proportion weighting accuracy: 84.77 (last), 59.17 (average), 84.77 (best)\n",
      "\n"
     ]
    },
    {
     "name": "stderr",
     "output_type": "stream",
     "text": [
      " 69%|██████▉   | 688/1000 [07:18<03:11,  1.63it/s]"
     ]
    },
    {
     "name": "stdout",
     "output_type": "stream",
     "text": [
      "\n",
      "All activity accuracy: 78.12 (last), 58.66 (average), 82.81 (best)\n",
      "Proportion weighting accuracy: 80.86 (last), 59.67 (average), 84.77 (best)\n",
      "\n"
     ]
    },
    {
     "name": "stderr",
     "output_type": "stream",
     "text": [
      " 70%|███████   | 704/1000 [07:28<03:02,  1.62it/s]"
     ]
    },
    {
     "name": "stdout",
     "output_type": "stream",
     "text": [
      "\n",
      "All activity accuracy: 82.23 (last), 59.20 (average), 82.81 (best)\n",
      "Proportion weighting accuracy: 83.40 (last), 60.21 (average), 84.77 (best)\n",
      "\n"
     ]
    },
    {
     "name": "stderr",
     "output_type": "stream",
     "text": [
      " 72%|███████▏  | 720/1000 [07:38<03:01,  1.54it/s]"
     ]
    },
    {
     "name": "stdout",
     "output_type": "stream",
     "text": [
      "\n",
      "All activity accuracy: 81.64 (last), 59.70 (average), 82.81 (best)\n",
      "Proportion weighting accuracy: 82.42 (last), 60.71 (average), 84.77 (best)\n",
      "\n"
     ]
    },
    {
     "name": "stderr",
     "output_type": "stream",
     "text": [
      " 74%|███████▎  | 736/1000 [07:48<02:41,  1.63it/s]"
     ]
    },
    {
     "name": "stdout",
     "output_type": "stream",
     "text": [
      "\n",
      "All activity accuracy: 82.81 (last), 60.20 (average), 82.81 (best)\n",
      "Proportion weighting accuracy: 84.18 (last), 61.22 (average), 84.77 (best)\n",
      "\n"
     ]
    },
    {
     "name": "stderr",
     "output_type": "stream",
     "text": [
      " 75%|███████▌  | 752/1000 [07:58<02:42,  1.52it/s]"
     ]
    },
    {
     "name": "stdout",
     "output_type": "stream",
     "text": [
      "\n",
      "All activity accuracy: 82.23 (last), 60.67 (average), 82.81 (best)\n",
      "Proportion weighting accuracy: 83.59 (last), 61.69 (average), 84.77 (best)\n",
      "\n"
     ]
    },
    {
     "name": "stderr",
     "output_type": "stream",
     "text": [
      " 77%|███████▋  | 768/1000 [08:08<02:26,  1.58it/s]"
     ]
    },
    {
     "name": "stdout",
     "output_type": "stream",
     "text": [
      "\n",
      "All activity accuracy: 81.84 (last), 61.11 (average), 82.81 (best)\n",
      "Proportion weighting accuracy: 81.25 (last), 62.10 (average), 84.77 (best)\n",
      "\n"
     ]
    },
    {
     "name": "stderr",
     "output_type": "stream",
     "text": [
      " 78%|███████▊  | 784/1000 [08:18<02:08,  1.68it/s]"
     ]
    },
    {
     "name": "stdout",
     "output_type": "stream",
     "text": [
      "\n",
      "All activity accuracy: 80.86 (last), 61.51 (average), 82.81 (best)\n",
      "Proportion weighting accuracy: 82.81 (last), 62.52 (average), 84.77 (best)\n",
      "\n"
     ]
    },
    {
     "name": "stderr",
     "output_type": "stream",
     "text": [
      " 80%|████████  | 800/1000 [08:28<02:03,  1.62it/s]"
     ]
    },
    {
     "name": "stdout",
     "output_type": "stream",
     "text": [
      "\n",
      "All activity accuracy: 79.88 (last), 61.88 (average), 82.81 (best)\n",
      "Proportion weighting accuracy: 80.08 (last), 62.88 (average), 84.77 (best)\n",
      "\n"
     ]
    },
    {
     "name": "stderr",
     "output_type": "stream",
     "text": [
      " 82%|████████▏ | 816/1000 [08:37<01:50,  1.66it/s]"
     ]
    },
    {
     "name": "stdout",
     "output_type": "stream",
     "text": [
      "\n",
      "All activity accuracy: 80.08 (last), 62.24 (average), 82.81 (best)\n",
      "Proportion weighting accuracy: 80.66 (last), 63.22 (average), 84.77 (best)\n",
      "\n"
     ]
    },
    {
     "name": "stderr",
     "output_type": "stream",
     "text": [
      " 83%|████████▎ | 832/1000 [08:47<01:43,  1.62it/s]"
     ]
    },
    {
     "name": "stdout",
     "output_type": "stream",
     "text": [
      "\n",
      "All activity accuracy: 79.10 (last), 62.56 (average), 82.81 (best)\n",
      "Proportion weighting accuracy: 78.32 (last), 63.51 (average), 84.77 (best)\n",
      "\n"
     ]
    },
    {
     "name": "stderr",
     "output_type": "stream",
     "text": [
      " 85%|████████▍ | 848/1000 [08:57<01:31,  1.65it/s]"
     ]
    },
    {
     "name": "stdout",
     "output_type": "stream",
     "text": [
      "\n",
      "All activity accuracy: 79.10 (last), 62.87 (average), 82.81 (best)\n",
      "Proportion weighting accuracy: 78.91 (last), 63.80 (average), 84.77 (best)\n",
      "\n"
     ]
    },
    {
     "name": "stderr",
     "output_type": "stream",
     "text": [
      " 86%|████████▋ | 864/1000 [09:07<01:25,  1.58it/s]"
     ]
    },
    {
     "name": "stdout",
     "output_type": "stream",
     "text": [
      "\n",
      "All activity accuracy: 82.42 (last), 63.23 (average), 82.81 (best)\n",
      "Proportion weighting accuracy: 83.20 (last), 64.16 (average), 84.77 (best)\n",
      "\n"
     ]
    },
    {
     "name": "stderr",
     "output_type": "stream",
     "text": [
      " 88%|████████▊ | 880/1000 [09:17<01:12,  1.66it/s]"
     ]
    },
    {
     "name": "stdout",
     "output_type": "stream",
     "text": [
      "\n",
      "All activity accuracy: 79.10 (last), 63.52 (average), 82.81 (best)\n",
      "Proportion weighting accuracy: 79.69 (last), 64.45 (average), 84.77 (best)\n",
      "\n"
     ]
    },
    {
     "name": "stderr",
     "output_type": "stream",
     "text": [
      " 90%|████████▉ | 896/1000 [09:26<01:05,  1.58it/s]"
     ]
    },
    {
     "name": "stdout",
     "output_type": "stream",
     "text": [
      "\n",
      "All activity accuracy: 79.30 (last), 63.80 (average), 82.81 (best)\n",
      "Proportion weighting accuracy: 79.88 (last), 64.72 (average), 84.77 (best)\n",
      "\n"
     ]
    },
    {
     "name": "stderr",
     "output_type": "stream",
     "text": [
      " 91%|█████████ | 912/1000 [09:36<00:55,  1.59it/s]"
     ]
    },
    {
     "name": "stdout",
     "output_type": "stream",
     "text": [
      "\n",
      "All activity accuracy: 82.03 (last), 64.12 (average), 82.81 (best)\n",
      "Proportion weighting accuracy: 82.62 (last), 65.04 (average), 84.77 (best)\n",
      "\n"
     ]
    },
    {
     "name": "stderr",
     "output_type": "stream",
     "text": [
      " 93%|█████████▎| 928/1000 [09:48<00:51,  1.39it/s]"
     ]
    },
    {
     "name": "stdout",
     "output_type": "stream",
     "text": [
      "\n",
      "All activity accuracy: 80.86 (last), 64.41 (average), 82.81 (best)\n",
      "Proportion weighting accuracy: 81.64 (last), 65.32 (average), 84.77 (best)\n",
      "\n"
     ]
    },
    {
     "name": "stderr",
     "output_type": "stream",
     "text": [
      " 94%|█████████▍| 944/1000 [09:59<00:36,  1.52it/s]"
     ]
    },
    {
     "name": "stdout",
     "output_type": "stream",
     "text": [
      "\n",
      "All activity accuracy: 82.42 (last), 64.72 (average), 82.81 (best)\n",
      "Proportion weighting accuracy: 83.20 (last), 65.62 (average), 84.77 (best)\n",
      "\n"
     ]
    },
    {
     "name": "stderr",
     "output_type": "stream",
     "text": [
      " 96%|█████████▌| 960/1000 [10:10<00:28,  1.41it/s]"
     ]
    },
    {
     "name": "stdout",
     "output_type": "stream",
     "text": [
      "\n",
      "All activity accuracy: 79.69 (last), 64.97 (average), 82.81 (best)\n",
      "Proportion weighting accuracy: 80.27 (last), 65.87 (average), 84.77 (best)\n",
      "\n"
     ]
    },
    {
     "name": "stderr",
     "output_type": "stream",
     "text": [
      " 98%|█████████▊| 976/1000 [10:21<00:15,  1.60it/s]"
     ]
    },
    {
     "name": "stdout",
     "output_type": "stream",
     "text": [
      "\n",
      "All activity accuracy: 80.08 (last), 65.22 (average), 82.81 (best)\n",
      "Proportion weighting accuracy: 79.88 (last), 66.10 (average), 84.77 (best)\n",
      "\n"
     ]
    },
    {
     "name": "stderr",
     "output_type": "stream",
     "text": [
      " 99%|█████████▉| 992/1000 [10:31<00:05,  1.60it/s]"
     ]
    },
    {
     "name": "stdout",
     "output_type": "stream",
     "text": [
      "\n",
      "All activity accuracy: 77.73 (last), 65.42 (average), 82.81 (best)\n",
      "Proportion weighting accuracy: 78.12 (last), 66.29 (average), 84.77 (best)\n",
      "\n"
     ]
    },
    {
     "name": "stderr",
     "output_type": "stream",
     "text": [
      "1001it [10:38,  1.21it/s]                          "
     ]
    },
    {
     "name": "stdout",
     "output_type": "stream",
     "text": [
      "Progress: 1 / 1 (638.5942 seconds)\n",
      "Training complete.\n",
      "\n"
     ]
    }
   ],
   "source": [
    "# Train the network.\n",
    "print(\"\\nBegin training.\\n\")\n",
    "start = t()\n",
    "\n",
    "for epoch in range(n_epochs):\n",
    "    labels = []\n",
    "\n",
    "    if epoch % progress_interval == 0:\n",
    "        print(\"\\n Progress: %d / %d (%.4f seconds)\" % (epoch, n_epochs, t() - start))\n",
    "        start = t()\n",
    "\n",
    "    # Create a dataloader to iterate and batch data\n",
    "    train_dataloader = DataLoader(\n",
    "        dataset,\n",
    "        batch_size=batch_size,\n",
    "        shuffle=True,\n",
    "        num_workers=n_workers,\n",
    "        pin_memory=gpu,\n",
    "    )\n",
    "\n",
    "    pbar_training = tqdm(total=n_train)\n",
    "    for step, batch in enumerate(train_dataloader):\n",
    "        if step > n_train:\n",
    "            break\n",
    "        # Get next input sample.\n",
    "        inputs = {\"X\": batch[\"encoded_image\"]}\n",
    "        if gpu:\n",
    "            inputs = {k: v.cuda() for k, v in inputs.items()}\n",
    "\n",
    "        if step % update_steps == 0 and step > 0:\n",
    "            # Convert the array of labels into a tensor\n",
    "            label_tensor = torch.tensor(labels, device=device)\n",
    "\n",
    "            # Get network predictions.\n",
    "            all_activity_pred = all_activity(\n",
    "                spikes=spike_record,\n",
    "                assignments=assignments,\n",
    "                n_labels=n_classes,\n",
    "            )\n",
    "            proportion_pred = proportion_weighting(\n",
    "                spikes=spike_record,\n",
    "                assignments=assignments,\n",
    "                proportions=proportions,\n",
    "                n_labels=n_classes,\n",
    "            )\n",
    "\n",
    "            # Compute network accuracy according to available classification strategies.\n",
    "            accuracy[\"all\"].append(\n",
    "                100\n",
    "                * torch.sum(label_tensor.long() == all_activity_pred).item()\n",
    "                / len(label_tensor)\n",
    "            )\n",
    "            accuracy[\"proportion\"].append(\n",
    "                100\n",
    "                * torch.sum(label_tensor.long() == proportion_pred).item()\n",
    "                / len(label_tensor)\n",
    "            )\n",
    "\n",
    "            print(\n",
    "                \"\\nAll activity accuracy: %.2f (last), %.2f (average), %.2f (best)\"\n",
    "                % (\n",
    "                    accuracy[\"all\"][-1],\n",
    "                    np.mean(accuracy[\"all\"]),\n",
    "                    np.max(accuracy[\"all\"]),\n",
    "                )\n",
    "            )\n",
    "            print(\n",
    "                \"Proportion weighting accuracy: %.2f (last), %.2f (average), %.2f\"\n",
    "                \" (best)\\n\"\n",
    "                % (\n",
    "                    accuracy[\"proportion\"][-1],\n",
    "                    np.mean(accuracy[\"proportion\"]),\n",
    "                    np.max(accuracy[\"proportion\"]),\n",
    "                )\n",
    "            )\n",
    "\n",
    "            # Assign labels to excitatory layer neurons.\n",
    "            assignments, proportions, rates = assign_labels(\n",
    "                spikes=spike_record,\n",
    "                labels=label_tensor,\n",
    "                n_labels=n_classes,\n",
    "                rates=rates,\n",
    "            )\n",
    "\n",
    "            labels = []\n",
    "\n",
    "        labels.extend(batch[\"label\"].tolist())\n",
    "\n",
    "        # Run the network on the input.\n",
    "        network.run(inputs=inputs, time=time, input_time_dim=1)\n",
    "\n",
    "        # Add to spikes recording.\n",
    "        s = torch.cat((spikes[\"Ae1\"].get(\"s\").permute((1, 0, 2)), spikes[\"Ae2\"].get(\"s\").permute((1, 0, 2))), -1)\n",
    "#         print('~~~~~~', s.shape)\n",
    "        spike_record[\n",
    "            (step * batch_size)\n",
    "            % update_interval : (step * batch_size % update_interval)\n",
    "            + s.size(0)\n",
    "        ] = s\n",
    "\n",
    "        # Get voltage recording.\n",
    "        exc_voltages_1 = exc_voltage_monitor_1.get(\"v\")\n",
    "        exc_voltages_2 = exc_voltage_monitor_2.get(\"v\")\n",
    "        inh_voltages = inh_voltage_monitor.get(\"v\")\n",
    "\n",
    "#         # Optionally plot various simulation information.\n",
    "#         if plot:\n",
    "#             image = batch[\"image\"][:, 0].view(28, 28)\n",
    "#             inpt = inputs[\"X\"][:, 0].view(time, 784).sum(0).view(28, 28)\n",
    "#             input_exc_weights = network.connections[(\"X\", \"Ae\")].w\n",
    "#             square_weights = get_square_weights(\n",
    "#                 input_exc_weights.view(784, n_neurons), n_sqrt, 28\n",
    "#             )\n",
    "#             square_assignments = get_square_assignments(assignments, n_sqrt)\n",
    "#             spikes_ = {\n",
    "#                 layer: spikes[layer].get(\"s\")[:, 0].contiguous() for layer in spikes\n",
    "#             }\n",
    "#             voltages = {\"Ae\": exc_voltages_1+exc_voltages_2, \"Ai\": inh_voltages}\n",
    "#             inpt_axes, inpt_ims = plot_input(\n",
    "#                 image, inpt, label=labels[step % update_steps], axes=inpt_axes, ims=inpt_ims\n",
    "#             )\n",
    "#             spike_ims, spike_axes = plot_spikes(spikes_, ims=spike_ims, axes=spike_axes)\n",
    "#             weights_im = plot_weights(square_weights, im=weights_im)\n",
    "#             assigns_im = plot_assignments(square_assignments, im=assigns_im)\n",
    "#             perf_ax = plot_performance(\n",
    "#                 accuracy, x_scale=update_steps * batch_size, ax=perf_ax\n",
    "#             )\n",
    "#             voltage_ims, voltage_axes = plot_voltages(\n",
    "#                 voltages, ims=voltage_ims, axes=voltage_axes, plot_type=\"line\"\n",
    "#             )\n",
    "\n",
    "#             plt.pause(1e-8)\n",
    "\n",
    "        network.reset_state_variables()  # Reset state variables.\n",
    "        pbar_training.update()\n",
    "\n",
    "print(\"Progress: %d / %d (%.4f seconds)\" % (epoch + 1, n_epochs, t() - start))\n",
    "print(\"Training complete.\\n\")"
   ]
  },
  {
   "cell_type": "code",
   "execution_count": null,
   "metadata": {},
   "outputs": [],
   "source": []
  }
 ],
 "metadata": {
  "kernelspec": {
   "display_name": "kongsr",
   "language": "python",
   "name": "kongsr"
  },
  "language_info": {
   "codemirror_mode": {
    "name": "ipython",
    "version": 3
   },
   "file_extension": ".py",
   "mimetype": "text/x-python",
   "name": "python",
   "nbconvert_exporter": "python",
   "pygments_lexer": "ipython3",
   "version": "3.7.7"
  }
 },
 "nbformat": 4,
 "nbformat_minor": 4
}
