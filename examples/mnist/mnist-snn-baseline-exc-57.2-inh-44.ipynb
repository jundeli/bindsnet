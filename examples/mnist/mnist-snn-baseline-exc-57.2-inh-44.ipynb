{
 "cells": [
  {
   "cell_type": "code",
   "execution_count": 1,
   "metadata": {
    "scrolled": true
   },
   "outputs": [
    {
     "name": "stderr",
     "output_type": "stream",
     "text": [
      "\n",
      "Bad key \"text.kerning_factor\" on line 4 in\n",
      "/home/junde/miniconda3/envs/kongsr/lib/python3.7/site-packages/matplotlib/mpl-data/stylelib/_classic_test_patch.mplstyle.\n",
      "You probably need to get an updated matplotlibrc file from\n",
      "https://github.com/matplotlib/matplotlib/blob/v3.1.3/matplotlibrc.template\n",
      "or from the matplotlib source distribution\n"
     ]
    }
   ],
   "source": [
    "import os\n",
    "import torch\n",
    "import argparse\n",
    "import numpy as np\n",
    "import matplotlib.pyplot as plt\n",
    "\n",
    "from torchvision import transforms\n",
    "from tqdm import tqdm\n",
    "\n",
    "from time import time as t\n",
    "import sys\n",
    "sys.path.append('../../bindsnet')\n",
    "from network import Network\n",
    "\n",
    "from bindsnet import ROOT_DIR\n",
    "from bindsnet.datasets import MNIST, DataLoader\n",
    "from bindsnet.encoding import PoissonEncoder\n",
    "from bindsnet.evaluation import (\n",
    "    all_activity,\n",
    "    proportion_weighting,\n",
    "    assign_labels,\n",
    ")\n",
    "# from bindsnet.models import DiehlAndCook2015\n",
    "from bindsnet.network.monitors import Monitor\n",
    "from bindsnet.utils import get_square_weights, get_square_assignments\n",
    "from bindsnet.analysis.plotting import (\n",
    "    plot_input,\n",
    "    plot_spikes,\n",
    "    plot_weights,\n",
    "    plot_performance,\n",
    "    plot_assignments,\n",
    "    plot_voltages,\n",
    ")\n",
    "from typing import Optional, Union, Tuple, List, Sequence, Iterable\n",
    "from network.nodes import Input, LIFNodes, DiehlAndCookNodes, AdaptiveLIFNodes\n",
    "from network.topology import Connection, LocalConnection\n",
    "from learning import PostPre"
   ]
  },
  {
   "cell_type": "code",
   "execution_count": 2,
   "metadata": {},
   "outputs": [],
   "source": [
    "parser = argparse.ArgumentParser()\n",
    "parser.add_argument(\"--seed\", type=int, default=0)\n",
    "parser.add_argument(\"--n_neurons\", type=int, default=100)\n",
    "parser.add_argument(\"--batch_size\", type=int, default=32)\n",
    "parser.add_argument(\"--n_epochs\", type=int, default=1)\n",
    "parser.add_argument(\"--n_test\", type=int, default=10000)\n",
    "parser.add_argument(\"--n_train\", type=int, default=1000)\n",
    "parser.add_argument(\"--n_workers\", type=int, default=-1)\n",
    "parser.add_argument(\"--update_steps\", type=int, default=16)\n",
    "parser.add_argument(\"--exc\", type=float, default=22.5)\n",
    "parser.add_argument(\"--inh\", type=float, default=120)\n",
    "parser.add_argument(\"--theta_plus\", type=float, default=0.05)\n",
    "parser.add_argument(\"--time\", type=int, default=100)\n",
    "parser.add_argument(\"--dt\", type=int, default=1.0)\n",
    "parser.add_argument(\"--intensity\", type=float, default=128)\n",
    "parser.add_argument(\"--progress_interval\", type=int, default=10)\n",
    "parser.add_argument(\"--train\", dest=\"train\", action=\"store_true\")\n",
    "parser.add_argument(\"--test\", dest=\"train\", action=\"store_false\")\n",
    "parser.add_argument(\"--plot\", dest=\"plot\", action=\"store_true\")\n",
    "parser.add_argument(\"--gpu\", dest=\"gpu\", action=\"store_true\")\n",
    "parser.set_defaults(plot=True, gpu=False)\n",
    "\n",
    "args = parser.parse_known_args()[0]"
   ]
  },
  {
   "cell_type": "code",
   "execution_count": 3,
   "metadata": {},
   "outputs": [
    {
     "name": "stdout",
     "output_type": "stream",
     "text": [
      "Running on Device =  cpu\n"
     ]
    }
   ],
   "source": [
    "seed = args.seed\n",
    "n_neurons = args.n_neurons\n",
    "batch_size = args.batch_size\n",
    "n_epochs = args.n_epochs\n",
    "n_test = args.n_test\n",
    "n_train = args.n_train\n",
    "n_workers = args.n_workers\n",
    "update_steps = args.update_steps\n",
    "exc = args.exc\n",
    "inh = args.inh\n",
    "theta_plus = args.theta_plus\n",
    "time = args.time\n",
    "dt = args.dt\n",
    "intensity = args.intensity\n",
    "progress_interval = args.progress_interval\n",
    "train = args.train\n",
    "plot = args.plot\n",
    "gpu = args.gpu\n",
    "\n",
    "update_interval = update_steps * batch_size\n",
    "\n",
    "# Sets up Gpu use\n",
    "device = torch.device(\"cuda\" if torch.cuda.is_available() else \"cpu\")\n",
    "if gpu and torch.cuda.is_available():\n",
    "    torch.cuda.manual_seed_all(seed)\n",
    "else:\n",
    "    torch.manual_seed(seed)\n",
    "    device = \"cpu\"\n",
    "    if gpu:\n",
    "        gpu = False\n",
    "\n",
    "torch.set_num_threads(os.cpu_count() - 1)\n",
    "print(\"Running on Device = \", device)"
   ]
  },
  {
   "cell_type": "code",
   "execution_count": 4,
   "metadata": {},
   "outputs": [],
   "source": [
    "class DiehlAndCook2015(Network):\n",
    "    # language=rst\n",
    "    \"\"\"\n",
    "    Implements the spiking neural network architecture from `(Diehl & Cook 2015)\n",
    "    <https://www.frontiersin.org/articles/10.3389/fncom.2015.00099/full>`_.\n",
    "    \"\"\"\n",
    "\n",
    "    def __init__(\n",
    "        self,\n",
    "        n_inpt: int,\n",
    "        n_neurons: int = 100,\n",
    "        exc: float = 22.5,\n",
    "        inh: float = 17.5,\n",
    "        dt: float = 1.0,\n",
    "        nu: Optional[Union[float, Sequence[float]]] = (1e-4, 1e-2),\n",
    "        reduction: Optional[callable] = None,\n",
    "        wmin: float = 0.0,\n",
    "        wmax: float = 1.0,\n",
    "        norm: float = 78.4,\n",
    "        theta_plus: float = 0.05,\n",
    "        tc_theta_decay: float = 1e7,\n",
    "        inpt_shape: Optional[Iterable[int]] = None,\n",
    "    ) -> None:\n",
    "        # language=rst\n",
    "        \"\"\"\n",
    "        Constructor for class ``DiehlAndCook2015``.\n",
    "\n",
    "        :param n_inpt: Number of input neurons. Matches the 1D size of the input data.\n",
    "        :param n_neurons: Number of excitatory, inhibitory neurons.\n",
    "        :param exc: Strength of synapse weights from excitatory to inhibitory layer.\n",
    "        :param inh: Strength of synapse weights from inhibitory to excitatory layer.\n",
    "        :param dt: Simulation time step.\n",
    "        :param nu: Single or pair of learning rates for pre- and post-synaptic events,\n",
    "            respectively.\n",
    "        :param reduction: Method for reducing parameter updates along the minibatch\n",
    "            dimension.\n",
    "        :param wmin: Minimum allowed weight on input to excitatory synapses.\n",
    "        :param wmax: Maximum allowed weight on input to excitatory synapses.\n",
    "        :param norm: Input to excitatory layer connection weights normalization\n",
    "            constant.\n",
    "        :param theta_plus: On-spike increment of ``DiehlAndCookNodes`` membrane\n",
    "            threshold potential.\n",
    "        :param tc_theta_decay: Time constant of ``DiehlAndCookNodes`` threshold\n",
    "            potential decay.\n",
    "        :param inpt_shape: The dimensionality of the input layer.\n",
    "        \"\"\"\n",
    "        super().__init__(dt=dt)\n",
    "\n",
    "        self.n_inpt = n_inpt\n",
    "        self.inpt_shape = inpt_shape\n",
    "        self.n_neurons = n_neurons\n",
    "        self.exc = exc\n",
    "        self.inh = inh\n",
    "        self.dt = dt\n",
    "\n",
    "        # Layers\n",
    "        input_layer = Input(\n",
    "            n=self.n_inpt, shape=self.inpt_shape, traces=True, tc_trace=20.0\n",
    "        )\n",
    "        exc_layer = DiehlAndCookNodes(\n",
    "            n=self.n_neurons,\n",
    "            traces=True,\n",
    "            rest=-65.0,\n",
    "            reset=-60.0,\n",
    "            thresh=-57.2,\n",
    "            refrac=5,\n",
    "            tc_decay=100.0,\n",
    "            tc_trace=20.0,\n",
    "            theta_plus=theta_plus,\n",
    "            tc_theta_decay=tc_theta_decay,\n",
    "        )\n",
    "        inh_layer = LIFNodes(\n",
    "            n=self.n_neurons,\n",
    "            traces=False,\n",
    "            rest=-60.0,\n",
    "            reset=-45.0,\n",
    "            thresh=-44,\n",
    "            tc_decay=10.0,\n",
    "            refrac=2,\n",
    "            tc_trace=20.0,\n",
    "        )\n",
    "\n",
    "        # Connections\n",
    "        w = 0.3 * torch.rand(self.n_inpt, self.n_neurons)\n",
    "        input_exc_conn = Connection(\n",
    "            source=input_layer,\n",
    "            target=exc_layer,\n",
    "            w=w,\n",
    "            update_rule=PostPre,\n",
    "            nu=nu,\n",
    "            reduction=reduction,\n",
    "            wmin=wmin,\n",
    "            wmax=wmax,\n",
    "            norm=norm,\n",
    "        )\n",
    "        w = self.exc * torch.diag(torch.ones(self.n_neurons))\n",
    "        exc_inh_conn = Connection(\n",
    "            source=exc_layer, target=inh_layer, w=w, wmin=0, wmax=self.exc\n",
    "        )\n",
    "        w = -self.inh * (\n",
    "            torch.ones(self.n_neurons, self.n_neurons)\n",
    "            - torch.diag(torch.ones(self.n_neurons))\n",
    "        )\n",
    "        inh_exc_conn = Connection(\n",
    "            source=inh_layer, target=exc_layer, w=w, wmin=-self.inh, wmax=0\n",
    "        )\n",
    "\n",
    "        # Add to network\n",
    "        self.add_layer(input_layer, name=\"X\")\n",
    "        self.add_layer(exc_layer, name=\"Ae\")\n",
    "        self.add_layer(inh_layer, name=\"Ai\")\n",
    "        self.add_connection(input_exc_conn, source=\"X\", target=\"Ae\")\n",
    "        self.add_connection(exc_inh_conn, source=\"Ae\", target=\"Ai\")\n",
    "        self.add_connection(inh_exc_conn, source=\"Ai\", target=\"Ae\")"
   ]
  },
  {
   "cell_type": "code",
   "execution_count": 5,
   "metadata": {},
   "outputs": [],
   "source": [
    "# Determines number of workers to use\n",
    "if n_workers == -1:\n",
    "    n_workers = gpu * 4 * torch.cuda.device_count()\n",
    "\n",
    "n_sqrt = int(np.ceil(np.sqrt(n_neurons)))\n",
    "start_intensity = intensity\n",
    "\n",
    "# Build network.\n",
    "network = DiehlAndCook2015(\n",
    "    n_inpt=784,\n",
    "    n_neurons=n_neurons,\n",
    "    exc=exc,\n",
    "    inh=inh,\n",
    "    dt=dt,\n",
    "    norm=78.4,\n",
    "    nu=(1e-4, 1e-2),\n",
    "    theta_plus=theta_plus,\n",
    "    inpt_shape=(1, 28, 28),\n",
    ")\n",
    "\n",
    "# Directs network to GPU\n",
    "if gpu:\n",
    "    network.to(\"cuda\")"
   ]
  },
  {
   "cell_type": "code",
   "execution_count": 6,
   "metadata": {
    "scrolled": true
   },
   "outputs": [],
   "source": [
    "# Load MNIST data.\n",
    "dataset = MNIST(\n",
    "    PoissonEncoder(time=time, dt=dt),\n",
    "    None,\n",
    "    root=os.path.join(ROOT_DIR, \"data\", \"MNIST\"),\n",
    "    download=True,\n",
    "    transform=transforms.Compose(\n",
    "        [transforms.ToTensor(), transforms.Lambda(lambda x: x * intensity)]\n",
    "    ),\n",
    ")"
   ]
  },
  {
   "cell_type": "code",
   "execution_count": 7,
   "metadata": {},
   "outputs": [],
   "source": [
    "# Neuron assignments and spike proportions.\n",
    "n_classes = 10\n",
    "assignments = -torch.ones(n_neurons, device=device)\n",
    "proportions = torch.zeros((n_neurons, n_classes), device=device)\n",
    "rates = torch.zeros((n_neurons, n_classes), device=device)\n",
    "\n",
    "# Sequence of accuracy estimates.\n",
    "accuracy = {\"all\": [], \"proportion\": []}\n",
    "\n",
    "# Voltage recording for excitatory and inhibitory layers.\n",
    "exc_voltage_monitor = Monitor(network.layers[\"Ae\"], [\"v\"], time=int(time / dt))\n",
    "inh_voltage_monitor = Monitor(network.layers[\"Ai\"], [\"v\"], time=int(time / dt))\n",
    "network.add_monitor(exc_voltage_monitor, name=\"exc_voltage\")\n",
    "network.add_monitor(inh_voltage_monitor, name=\"inh_voltage\")\n",
    "\n",
    "# Set up monitors for spikes and voltages\n",
    "spikes = {}\n",
    "for layer in set(network.layers):\n",
    "    spikes[layer] = Monitor(\n",
    "        network.layers[layer], state_vars=[\"s\"], time=int(time / dt)\n",
    "    )\n",
    "    network.add_monitor(spikes[layer], name=\"%s_spikes\" % layer)\n",
    "\n",
    "voltages = {}\n",
    "for layer in set(network.layers) - {\"X\"}:\n",
    "    voltages[layer] = Monitor(\n",
    "        network.layers[layer], state_vars=[\"v\"], time=int(time / dt)\n",
    "    )\n",
    "    network.add_monitor(voltages[layer], name=\"%s_voltages\" % layer)\n",
    "\n",
    "inpt_ims, inpt_axes = None, None\n",
    "spike_ims, spike_axes = None, None\n",
    "weights_im = None\n",
    "assigns_im = None\n",
    "perf_ax = None\n",
    "voltage_axes, voltage_ims = None, None\n",
    "\n",
    "spike_record = torch.zeros((update_interval, int(time / dt), n_neurons), device=device)"
   ]
  },
  {
   "cell_type": "code",
   "execution_count": 8,
   "metadata": {
    "scrolled": true
   },
   "outputs": [
    {
     "name": "stderr",
     "output_type": "stream",
     "text": [
      "\r",
      "  0%|          | 0/1000 [00:00<?, ?it/s]"
     ]
    },
    {
     "name": "stdout",
     "output_type": "stream",
     "text": [
      "\n",
      "Begin training.\n",
      "\n",
      "\n",
      " Progress: 0 / 1 (0.0006 seconds)\n"
     ]
    },
    {
     "name": "stderr",
     "output_type": "stream",
     "text": [
      "  2%|▏         | 16/1000 [01:19<1:18:34,  4.79s/it]"
     ]
    },
    {
     "name": "stdout",
     "output_type": "stream",
     "text": [
      "\n",
      "All activity accuracy: 8.59 (last), 8.59 (average), 8.59 (best)\n",
      "Proportion weighting accuracy: 8.59 (last), 8.59 (average), 8.59 (best)\n",
      "\n"
     ]
    },
    {
     "name": "stderr",
     "output_type": "stream",
     "text": [
      "  3%|▎         | 32/1000 [05:53<5:31:13, 20.53s/it]"
     ]
    },
    {
     "name": "stdout",
     "output_type": "stream",
     "text": [
      "\n",
      "All activity accuracy: 30.08 (last), 19.34 (average), 30.08 (best)\n",
      "Proportion weighting accuracy: 29.49 (last), 19.04 (average), 29.49 (best)\n",
      "\n"
     ]
    },
    {
     "name": "stderr",
     "output_type": "stream",
     "text": [
      "  5%|▍         | 48/1000 [12:01<6:02:14, 22.83s/it]"
     ]
    },
    {
     "name": "stdout",
     "output_type": "stream",
     "text": [
      "\n",
      "All activity accuracy: 38.48 (last), 25.72 (average), 38.48 (best)\n",
      "Proportion weighting accuracy: 39.26 (last), 25.78 (average), 39.26 (best)\n",
      "\n"
     ]
    },
    {
     "name": "stderr",
     "output_type": "stream",
     "text": [
      "  6%|▋         | 64/1000 [18:24<6:00:35, 23.12s/it]"
     ]
    },
    {
     "name": "stdout",
     "output_type": "stream",
     "text": [
      "\n",
      "All activity accuracy: 32.81 (last), 27.49 (average), 38.48 (best)\n",
      "Proportion weighting accuracy: 32.62 (last), 27.49 (average), 39.26 (best)\n",
      "\n"
     ]
    },
    {
     "name": "stderr",
     "output_type": "stream",
     "text": [
      "  8%|▊         | 80/1000 [24:27<5:47:52, 22.69s/it]"
     ]
    },
    {
     "name": "stdout",
     "output_type": "stream",
     "text": [
      "\n",
      "All activity accuracy: 37.30 (last), 29.45 (average), 38.48 (best)\n",
      "Proportion weighting accuracy: 39.26 (last), 29.84 (average), 39.26 (best)\n",
      "\n"
     ]
    },
    {
     "name": "stderr",
     "output_type": "stream",
     "text": [
      " 10%|▉         | 96/1000 [30:28<5:41:04, 22.64s/it]"
     ]
    },
    {
     "name": "stdout",
     "output_type": "stream",
     "text": [
      "\n",
      "All activity accuracy: 41.41 (last), 31.45 (average), 41.41 (best)\n",
      "Proportion weighting accuracy: 41.21 (last), 31.74 (average), 41.21 (best)\n",
      "\n"
     ]
    },
    {
     "name": "stderr",
     "output_type": "stream",
     "text": [
      " 11%|█         | 112/1000 [36:29<5:33:13, 22.51s/it]"
     ]
    },
    {
     "name": "stdout",
     "output_type": "stream",
     "text": [
      "\n",
      "All activity accuracy: 43.55 (last), 33.18 (average), 43.55 (best)\n",
      "Proportion weighting accuracy: 45.31 (last), 33.68 (average), 45.31 (best)\n",
      "\n"
     ]
    },
    {
     "name": "stderr",
     "output_type": "stream",
     "text": [
      " 13%|█▎        | 128/1000 [42:29<5:28:28, 22.60s/it]"
     ]
    },
    {
     "name": "stdout",
     "output_type": "stream",
     "text": [
      "\n",
      "All activity accuracy: 48.24 (last), 35.06 (average), 48.24 (best)\n",
      "Proportion weighting accuracy: 49.02 (last), 35.60 (average), 49.02 (best)\n",
      "\n"
     ]
    },
    {
     "name": "stderr",
     "output_type": "stream",
     "text": [
      " 14%|█▍        | 144/1000 [48:29<5:20:48, 22.49s/it]"
     ]
    },
    {
     "name": "stdout",
     "output_type": "stream",
     "text": [
      "\n",
      "All activity accuracy: 65.82 (last), 38.48 (average), 65.82 (best)\n",
      "Proportion weighting accuracy: 67.19 (last), 39.11 (average), 67.19 (best)\n",
      "\n"
     ]
    },
    {
     "name": "stderr",
     "output_type": "stream",
     "text": [
      " 16%|█▌        | 160/1000 [54:26<5:12:29, 22.32s/it]"
     ]
    },
    {
     "name": "stdout",
     "output_type": "stream",
     "text": [
      "\n",
      "All activity accuracy: 72.07 (last), 41.84 (average), 72.07 (best)\n",
      "Proportion weighting accuracy: 73.24 (last), 42.52 (average), 73.24 (best)\n",
      "\n"
     ]
    },
    {
     "name": "stderr",
     "output_type": "stream",
     "text": [
      " 18%|█▊        | 176/1000 [1:00:23<5:04:08, 22.15s/it]"
     ]
    },
    {
     "name": "stdout",
     "output_type": "stream",
     "text": [
      "\n",
      "All activity accuracy: 75.98 (last), 44.94 (average), 75.98 (best)\n",
      "Proportion weighting accuracy: 78.12 (last), 45.76 (average), 78.12 (best)\n",
      "\n"
     ]
    },
    {
     "name": "stderr",
     "output_type": "stream",
     "text": [
      " 19%|█▉        | 192/1000 [1:06:20<5:01:43, 22.41s/it]"
     ]
    },
    {
     "name": "stdout",
     "output_type": "stream",
     "text": [
      "\n",
      "All activity accuracy: 77.73 (last), 47.67 (average), 77.73 (best)\n",
      "Proportion weighting accuracy: 78.12 (last), 48.45 (average), 78.12 (best)\n",
      "\n"
     ]
    },
    {
     "name": "stderr",
     "output_type": "stream",
     "text": [
      " 21%|██        | 208/1000 [1:12:17<4:54:52, 22.34s/it]"
     ]
    },
    {
     "name": "stdout",
     "output_type": "stream",
     "text": [
      "\n",
      "All activity accuracy: 75.39 (last), 49.80 (average), 77.73 (best)\n",
      "Proportion weighting accuracy: 75.39 (last), 50.53 (average), 78.12 (best)\n",
      "\n"
     ]
    },
    {
     "name": "stderr",
     "output_type": "stream",
     "text": [
      " 22%|██▏       | 224/1000 [1:18:12<4:46:59, 22.19s/it]"
     ]
    },
    {
     "name": "stdout",
     "output_type": "stream",
     "text": [
      "\n",
      "All activity accuracy: 78.32 (last), 51.84 (average), 78.32 (best)\n",
      "Proportion weighting accuracy: 78.91 (last), 52.55 (average), 78.91 (best)\n",
      "\n"
     ]
    },
    {
     "name": "stderr",
     "output_type": "stream",
     "text": [
      " 24%|██▍       | 240/1000 [1:24:07<4:40:48, 22.17s/it]"
     ]
    },
    {
     "name": "stdout",
     "output_type": "stream",
     "text": [
      "\n",
      "All activity accuracy: 77.93 (last), 53.58 (average), 78.32 (best)\n",
      "Proportion weighting accuracy: 78.52 (last), 54.28 (average), 78.91 (best)\n",
      "\n"
     ]
    },
    {
     "name": "stderr",
     "output_type": "stream",
     "text": [
      " 26%|██▌       | 256/1000 [1:30:04<4:35:14, 22.20s/it]"
     ]
    },
    {
     "name": "stdout",
     "output_type": "stream",
     "text": [
      "\n",
      "All activity accuracy: 82.03 (last), 55.36 (average), 82.03 (best)\n",
      "Proportion weighting accuracy: 83.40 (last), 56.10 (average), 83.40 (best)\n",
      "\n"
     ]
    },
    {
     "name": "stderr",
     "output_type": "stream",
     "text": [
      " 27%|██▋       | 272/1000 [1:35:58<4:27:54, 22.08s/it]"
     ]
    },
    {
     "name": "stdout",
     "output_type": "stream",
     "text": [
      "\n",
      "All activity accuracy: 76.76 (last), 56.62 (average), 82.03 (best)\n",
      "Proportion weighting accuracy: 78.32 (last), 57.41 (average), 83.40 (best)\n",
      "\n"
     ]
    },
    {
     "name": "stderr",
     "output_type": "stream",
     "text": [
      " 29%|██▉       | 288/1000 [1:41:52<4:23:14, 22.18s/it]"
     ]
    },
    {
     "name": "stdout",
     "output_type": "stream",
     "text": [
      "\n",
      "All activity accuracy: 81.45 (last), 58.00 (average), 82.03 (best)\n",
      "Proportion weighting accuracy: 81.84 (last), 58.77 (average), 83.40 (best)\n",
      "\n"
     ]
    },
    {
     "name": "stderr",
     "output_type": "stream",
     "text": [
      " 30%|███       | 304/1000 [1:47:45<4:15:46, 22.05s/it]"
     ]
    },
    {
     "name": "stdout",
     "output_type": "stream",
     "text": [
      "\n",
      "All activity accuracy: 79.30 (last), 59.12 (average), 82.03 (best)\n",
      "Proportion weighting accuracy: 80.47 (last), 59.91 (average), 83.40 (best)\n",
      "\n"
     ]
    },
    {
     "name": "stderr",
     "output_type": "stream",
     "text": [
      " 32%|███▏      | 320/1000 [1:53:38<4:09:16, 21.99s/it]"
     ]
    },
    {
     "name": "stdout",
     "output_type": "stream",
     "text": [
      "\n",
      "All activity accuracy: 80.86 (last), 60.21 (average), 82.03 (best)\n",
      "Proportion weighting accuracy: 81.64 (last), 61.00 (average), 83.40 (best)\n",
      "\n"
     ]
    },
    {
     "name": "stderr",
     "output_type": "stream",
     "text": [
      " 34%|███▎      | 336/1000 [1:59:31<4:03:55, 22.04s/it]"
     ]
    },
    {
     "name": "stdout",
     "output_type": "stream",
     "text": [
      "\n",
      "All activity accuracy: 84.77 (last), 61.37 (average), 84.77 (best)\n",
      "Proportion weighting accuracy: 85.74 (last), 62.17 (average), 85.74 (best)\n",
      "\n"
     ]
    },
    {
     "name": "stderr",
     "output_type": "stream",
     "text": [
      " 35%|███▌      | 352/1000 [2:04:54<3:13:33, 17.92s/it]"
     ]
    },
    {
     "name": "stdout",
     "output_type": "stream",
     "text": [
      "\n",
      "All activity accuracy: 79.10 (last), 62.18 (average), 84.77 (best)\n",
      "Proportion weighting accuracy: 80.47 (last), 63.01 (average), 85.74 (best)\n",
      "\n"
     ]
    },
    {
     "name": "stderr",
     "output_type": "stream",
     "text": [
      " 37%|███▋      | 368/1000 [2:09:37<3:07:30, 17.80s/it]"
     ]
    },
    {
     "name": "stdout",
     "output_type": "stream",
     "text": [
      "\n",
      "All activity accuracy: 80.86 (last), 62.99 (average), 84.77 (best)\n",
      "Proportion weighting accuracy: 81.84 (last), 63.82 (average), 85.74 (best)\n",
      "\n"
     ]
    },
    {
     "name": "stderr",
     "output_type": "stream",
     "text": [
      " 38%|███▊      | 384/1000 [2:14:20<3:01:24, 17.67s/it]"
     ]
    },
    {
     "name": "stdout",
     "output_type": "stream",
     "text": [
      "\n",
      "All activity accuracy: 81.84 (last), 63.78 (average), 84.77 (best)\n",
      "Proportion weighting accuracy: 81.84 (last), 64.58 (average), 85.74 (best)\n",
      "\n"
     ]
    },
    {
     "name": "stderr",
     "output_type": "stream",
     "text": [
      " 40%|████      | 400/1000 [2:18:56<2:56:17, 17.63s/it]"
     ]
    },
    {
     "name": "stdout",
     "output_type": "stream",
     "text": [
      "\n",
      "All activity accuracy: 81.45 (last), 64.48 (average), 84.77 (best)\n",
      "Proportion weighting accuracy: 82.81 (last), 65.30 (average), 85.74 (best)\n",
      "\n"
     ]
    },
    {
     "name": "stderr",
     "output_type": "stream",
     "text": [
      " 42%|████▏     | 416/1000 [2:23:39<2:53:55, 17.87s/it]"
     ]
    },
    {
     "name": "stdout",
     "output_type": "stream",
     "text": [
      "\n",
      "All activity accuracy: 81.45 (last), 65.14 (average), 84.77 (best)\n",
      "Proportion weighting accuracy: 82.62 (last), 65.97 (average), 85.74 (best)\n",
      "\n"
     ]
    },
    {
     "name": "stderr",
     "output_type": "stream",
     "text": [
      " 43%|████▎     | 432/1000 [2:28:22<2:51:29, 18.12s/it]"
     ]
    },
    {
     "name": "stdout",
     "output_type": "stream",
     "text": [
      "\n",
      "All activity accuracy: 82.62 (last), 65.78 (average), 84.77 (best)\n",
      "Proportion weighting accuracy: 84.57 (last), 66.66 (average), 85.74 (best)\n",
      "\n"
     ]
    },
    {
     "name": "stderr",
     "output_type": "stream",
     "text": [
      " 45%|████▍     | 448/1000 [2:33:05<2:36:58, 17.06s/it]"
     ]
    },
    {
     "name": "stdout",
     "output_type": "stream",
     "text": [
      "\n",
      "All activity accuracy: 83.59 (last), 66.42 (average), 84.77 (best)\n",
      "Proportion weighting accuracy: 83.79 (last), 67.27 (average), 85.74 (best)\n",
      "\n"
     ]
    },
    {
     "name": "stderr",
     "output_type": "stream",
     "text": [
      " 46%|████▋     | 464/1000 [2:37:45<2:31:35, 16.97s/it]"
     ]
    },
    {
     "name": "stdout",
     "output_type": "stream",
     "text": [
      "\n",
      "All activity accuracy: 82.03 (last), 66.96 (average), 84.77 (best)\n",
      "Proportion weighting accuracy: 83.40 (last), 67.83 (average), 85.74 (best)\n",
      "\n"
     ]
    },
    {
     "name": "stderr",
     "output_type": "stream",
     "text": [
      " 48%|████▊     | 480/1000 [2:42:27<2:34:29, 17.83s/it]"
     ]
    },
    {
     "name": "stdout",
     "output_type": "stream",
     "text": [
      "\n",
      "All activity accuracy: 83.20 (last), 67.50 (average), 84.77 (best)\n",
      "Proportion weighting accuracy: 82.81 (last), 68.33 (average), 85.74 (best)\n",
      "\n"
     ]
    },
    {
     "name": "stderr",
     "output_type": "stream",
     "text": [
      " 50%|████▉     | 496/1000 [2:47:14<2:32:55, 18.21s/it]"
     ]
    },
    {
     "name": "stdout",
     "output_type": "stream",
     "text": [
      "\n",
      "All activity accuracy: 83.79 (last), 68.03 (average), 84.77 (best)\n",
      "Proportion weighting accuracy: 83.79 (last), 68.83 (average), 85.74 (best)\n",
      "\n"
     ]
    },
    {
     "name": "stderr",
     "output_type": "stream",
     "text": [
      " 51%|█████     | 512/1000 [2:51:55<2:22:29, 17.52s/it]"
     ]
    },
    {
     "name": "stdout",
     "output_type": "stream",
     "text": [
      "\n",
      "All activity accuracy: 81.05 (last), 68.43 (average), 84.77 (best)\n",
      "Proportion weighting accuracy: 82.81 (last), 69.26 (average), 85.74 (best)\n",
      "\n"
     ]
    },
    {
     "name": "stderr",
     "output_type": "stream",
     "text": [
      " 53%|█████▎    | 528/1000 [2:56:38<2:18:08, 17.56s/it]"
     ]
    },
    {
     "name": "stdout",
     "output_type": "stream",
     "text": [
      "\n",
      "All activity accuracy: 80.47 (last), 68.80 (average), 84.77 (best)\n",
      "Proportion weighting accuracy: 81.05 (last), 69.62 (average), 85.74 (best)\n",
      "\n"
     ]
    },
    {
     "name": "stderr",
     "output_type": "stream",
     "text": [
      " 54%|█████▍    | 544/1000 [3:01:16<2:09:54, 17.09s/it]"
     ]
    },
    {
     "name": "stdout",
     "output_type": "stream",
     "text": [
      "\n",
      "All activity accuracy: 81.05 (last), 69.16 (average), 84.77 (best)\n",
      "Proportion weighting accuracy: 81.84 (last), 69.98 (average), 85.74 (best)\n",
      "\n"
     ]
    },
    {
     "name": "stderr",
     "output_type": "stream",
     "text": [
      " 56%|█████▌    | 560/1000 [3:05:59<2:12:27, 18.06s/it]"
     ]
    },
    {
     "name": "stdout",
     "output_type": "stream",
     "text": [
      "\n",
      "All activity accuracy: 81.05 (last), 69.50 (average), 84.77 (best)\n",
      "Proportion weighting accuracy: 81.25 (last), 70.30 (average), 85.74 (best)\n",
      "\n"
     ]
    },
    {
     "name": "stderr",
     "output_type": "stream",
     "text": [
      " 58%|█████▊    | 576/1000 [3:10:38<1:59:39, 16.93s/it]"
     ]
    },
    {
     "name": "stdout",
     "output_type": "stream",
     "text": [
      "\n",
      "All activity accuracy: 82.03 (last), 69.85 (average), 84.77 (best)\n",
      "Proportion weighting accuracy: 83.59 (last), 70.67 (average), 85.74 (best)\n",
      "\n"
     ]
    },
    {
     "name": "stderr",
     "output_type": "stream",
     "text": [
      " 59%|█████▉    | 592/1000 [3:15:17<1:58:15, 17.39s/it]"
     ]
    },
    {
     "name": "stdout",
     "output_type": "stream",
     "text": [
      "\n",
      "All activity accuracy: 82.81 (last), 70.20 (average), 84.77 (best)\n",
      "Proportion weighting accuracy: 82.62 (last), 70.99 (average), 85.74 (best)\n",
      "\n"
     ]
    },
    {
     "name": "stderr",
     "output_type": "stream",
     "text": [
      " 61%|██████    | 608/1000 [3:19:59<1:54:19, 17.50s/it]"
     ]
    },
    {
     "name": "stdout",
     "output_type": "stream",
     "text": [
      "\n",
      "All activity accuracy: 83.20 (last), 70.54 (average), 84.77 (best)\n",
      "Proportion weighting accuracy: 84.18 (last), 71.34 (average), 85.74 (best)\n",
      "\n"
     ]
    },
    {
     "name": "stderr",
     "output_type": "stream",
     "text": [
      " 62%|██████▏   | 624/1000 [3:24:46<1:52:08, 17.90s/it]"
     ]
    },
    {
     "name": "stdout",
     "output_type": "stream",
     "text": [
      "\n",
      "All activity accuracy: 81.45 (last), 70.82 (average), 84.77 (best)\n",
      "Proportion weighting accuracy: 82.23 (last), 71.62 (average), 85.74 (best)\n",
      "\n"
     ]
    },
    {
     "name": "stderr",
     "output_type": "stream",
     "text": [
      " 64%|██████▍   | 640/1000 [3:29:27<1:45:34, 17.59s/it]"
     ]
    },
    {
     "name": "stdout",
     "output_type": "stream",
     "text": [
      "\n",
      "All activity accuracy: 80.27 (last), 71.05 (average), 84.77 (best)\n",
      "Proportion weighting accuracy: 80.86 (last), 71.85 (average), 85.74 (best)\n",
      "\n"
     ]
    },
    {
     "name": "stderr",
     "output_type": "stream",
     "text": [
      " 66%|██████▌   | 656/1000 [3:34:09<1:41:27, 17.70s/it]"
     ]
    },
    {
     "name": "stdout",
     "output_type": "stream",
     "text": [
      "\n",
      "All activity accuracy: 82.23 (last), 71.33 (average), 84.77 (best)\n",
      "Proportion weighting accuracy: 83.40 (last), 72.13 (average), 85.74 (best)\n",
      "\n"
     ]
    },
    {
     "name": "stderr",
     "output_type": "stream",
     "text": [
      " 67%|██████▋   | 672/1000 [3:38:47<1:34:49, 17.35s/it]"
     ]
    },
    {
     "name": "stdout",
     "output_type": "stream",
     "text": [
      "\n",
      "All activity accuracy: 80.47 (last), 71.54 (average), 84.77 (best)\n",
      "Proportion weighting accuracy: 81.64 (last), 72.36 (average), 85.74 (best)\n",
      "\n"
     ]
    },
    {
     "name": "stderr",
     "output_type": "stream",
     "text": [
      " 69%|██████▉   | 688/1000 [3:43:24<1:31:13, 17.54s/it]"
     ]
    },
    {
     "name": "stdout",
     "output_type": "stream",
     "text": [
      "\n",
      "All activity accuracy: 80.47 (last), 71.75 (average), 84.77 (best)\n",
      "Proportion weighting accuracy: 81.05 (last), 72.56 (average), 85.74 (best)\n",
      "\n"
     ]
    },
    {
     "name": "stderr",
     "output_type": "stream",
     "text": [
      " 70%|███████   | 704/1000 [3:48:06<1:25:39, 17.36s/it]"
     ]
    },
    {
     "name": "stdout",
     "output_type": "stream",
     "text": [
      "\n",
      "All activity accuracy: 81.45 (last), 71.97 (average), 84.77 (best)\n",
      "Proportion weighting accuracy: 82.03 (last), 72.78 (average), 85.74 (best)\n",
      "\n"
     ]
    },
    {
     "name": "stderr",
     "output_type": "stream",
     "text": [
      " 72%|███████▏  | 720/1000 [3:52:45<1:22:19, 17.64s/it]"
     ]
    },
    {
     "name": "stdout",
     "output_type": "stream",
     "text": [
      "\n",
      "All activity accuracy: 83.40 (last), 72.23 (average), 84.77 (best)\n",
      "Proportion weighting accuracy: 83.98 (last), 73.03 (average), 85.74 (best)\n",
      "\n"
     ]
    },
    {
     "name": "stderr",
     "output_type": "stream",
     "text": [
      " 74%|███████▎  | 736/1000 [3:57:24<1:14:31, 16.94s/it]"
     ]
    },
    {
     "name": "stdout",
     "output_type": "stream",
     "text": [
      "\n",
      "All activity accuracy: 81.64 (last), 72.43 (average), 84.77 (best)\n",
      "Proportion weighting accuracy: 81.64 (last), 73.21 (average), 85.74 (best)\n",
      "\n"
     ]
    },
    {
     "name": "stderr",
     "output_type": "stream",
     "text": [
      " 75%|███████▌  | 752/1000 [4:01:59<1:11:08, 17.21s/it]"
     ]
    },
    {
     "name": "stdout",
     "output_type": "stream",
     "text": [
      "\n",
      "All activity accuracy: 80.47 (last), 72.60 (average), 84.77 (best)\n",
      "Proportion weighting accuracy: 81.05 (last), 73.38 (average), 85.74 (best)\n",
      "\n"
     ]
    },
    {
     "name": "stderr",
     "output_type": "stream",
     "text": [
      " 77%|███████▋  | 768/1000 [4:06:44<1:10:27, 18.22s/it]"
     ]
    },
    {
     "name": "stdout",
     "output_type": "stream",
     "text": [
      "\n",
      "All activity accuracy: 78.32 (last), 72.72 (average), 84.77 (best)\n",
      "Proportion weighting accuracy: 80.86 (last), 73.54 (average), 85.74 (best)\n",
      "\n"
     ]
    },
    {
     "name": "stderr",
     "output_type": "stream",
     "text": [
      " 78%|███████▊  | 784/1000 [4:11:23<1:03:27, 17.63s/it]"
     ]
    },
    {
     "name": "stdout",
     "output_type": "stream",
     "text": [
      "\n",
      "All activity accuracy: 80.08 (last), 72.87 (average), 84.77 (best)\n",
      "Proportion weighting accuracy: 81.45 (last), 73.70 (average), 85.74 (best)\n",
      "\n"
     ]
    },
    {
     "name": "stderr",
     "output_type": "stream",
     "text": [
      " 80%|████████  | 800/1000 [4:16:04<57:41, 17.31s/it]  "
     ]
    },
    {
     "name": "stdout",
     "output_type": "stream",
     "text": [
      "\n",
      "All activity accuracy: 79.10 (last), 73.00 (average), 84.77 (best)\n",
      "Proportion weighting accuracy: 79.49 (last), 73.81 (average), 85.74 (best)\n",
      "\n"
     ]
    },
    {
     "name": "stderr",
     "output_type": "stream",
     "text": [
      " 82%|████████▏ | 816/1000 [4:20:02<40:53, 13.34s/it]"
     ]
    },
    {
     "name": "stdout",
     "output_type": "stream",
     "text": [
      "\n",
      "All activity accuracy: 77.54 (last), 73.09 (average), 84.77 (best)\n",
      "Proportion weighting accuracy: 79.30 (last), 73.92 (average), 85.74 (best)\n",
      "\n"
     ]
    },
    {
     "name": "stderr",
     "output_type": "stream",
     "text": [
      " 83%|████████▎ | 832/1000 [4:23:33<36:46, 13.13s/it]"
     ]
    },
    {
     "name": "stdout",
     "output_type": "stream",
     "text": [
      "\n",
      "All activity accuracy: 77.15 (last), 73.16 (average), 84.77 (best)\n",
      "Proportion weighting accuracy: 77.15 (last), 73.98 (average), 85.74 (best)\n",
      "\n"
     ]
    },
    {
     "name": "stderr",
     "output_type": "stream",
     "text": [
      " 85%|████████▍ | 848/1000 [4:27:05<33:01, 13.03s/it]"
     ]
    },
    {
     "name": "stdout",
     "output_type": "stream",
     "text": [
      "\n",
      "All activity accuracy: 79.10 (last), 73.28 (average), 84.77 (best)\n",
      "Proportion weighting accuracy: 79.49 (last), 74.09 (average), 85.74 (best)\n",
      "\n"
     ]
    },
    {
     "name": "stderr",
     "output_type": "stream",
     "text": [
      " 86%|████████▋ | 864/1000 [4:30:34<29:31, 13.03s/it]"
     ]
    },
    {
     "name": "stdout",
     "output_type": "stream",
     "text": [
      "\n",
      "All activity accuracy: 82.62 (last), 73.45 (average), 84.77 (best)\n",
      "Proportion weighting accuracy: 84.57 (last), 74.28 (average), 85.74 (best)\n",
      "\n"
     ]
    },
    {
     "name": "stderr",
     "output_type": "stream",
     "text": [
      " 88%|████████▊ | 880/1000 [4:34:05<26:25, 13.21s/it]"
     ]
    },
    {
     "name": "stdout",
     "output_type": "stream",
     "text": [
      "\n",
      "All activity accuracy: 79.10 (last), 73.55 (average), 84.77 (best)\n",
      "Proportion weighting accuracy: 81.64 (last), 74.41 (average), 85.74 (best)\n",
      "\n"
     ]
    },
    {
     "name": "stderr",
     "output_type": "stream",
     "text": [
      " 90%|████████▉ | 896/1000 [4:37:37<22:47, 13.15s/it]"
     ]
    },
    {
     "name": "stdout",
     "output_type": "stream",
     "text": [
      "\n",
      "All activity accuracy: 81.45 (last), 73.69 (average), 84.77 (best)\n",
      "Proportion weighting accuracy: 82.03 (last), 74.55 (average), 85.74 (best)\n",
      "\n"
     ]
    },
    {
     "name": "stderr",
     "output_type": "stream",
     "text": [
      " 91%|█████████ | 912/1000 [4:41:07<19:28, 13.28s/it]"
     ]
    },
    {
     "name": "stdout",
     "output_type": "stream",
     "text": [
      "\n",
      "All activity accuracy: 82.42 (last), 73.85 (average), 84.77 (best)\n",
      "Proportion weighting accuracy: 83.59 (last), 74.71 (average), 85.74 (best)\n",
      "\n"
     ]
    },
    {
     "name": "stderr",
     "output_type": "stream",
     "text": [
      " 93%|█████████▎| 928/1000 [4:44:38<15:51, 13.21s/it]"
     ]
    },
    {
     "name": "stdout",
     "output_type": "stream",
     "text": [
      "\n",
      "All activity accuracy: 80.08 (last), 73.95 (average), 84.77 (best)\n",
      "Proportion weighting accuracy: 80.86 (last), 74.81 (average), 85.74 (best)\n",
      "\n"
     ]
    },
    {
     "name": "stderr",
     "output_type": "stream",
     "text": [
      " 94%|█████████▍| 944/1000 [4:48:09<12:11, 13.07s/it]"
     ]
    },
    {
     "name": "stdout",
     "output_type": "stream",
     "text": [
      "\n",
      "All activity accuracy: 80.47 (last), 74.06 (average), 84.77 (best)\n",
      "Proportion weighting accuracy: 82.81 (last), 74.95 (average), 85.74 (best)\n",
      "\n"
     ]
    },
    {
     "name": "stderr",
     "output_type": "stream",
     "text": [
      " 96%|█████████▌| 960/1000 [4:51:39<08:37, 12.95s/it]"
     ]
    },
    {
     "name": "stdout",
     "output_type": "stream",
     "text": [
      "\n",
      "All activity accuracy: 77.34 (last), 74.12 (average), 84.77 (best)\n",
      "Proportion weighting accuracy: 79.49 (last), 75.03 (average), 85.74 (best)\n",
      "\n"
     ]
    },
    {
     "name": "stderr",
     "output_type": "stream",
     "text": [
      " 98%|█████████▊| 976/1000 [4:55:10<05:15, 13.14s/it]"
     ]
    },
    {
     "name": "stdout",
     "output_type": "stream",
     "text": [
      "\n",
      "All activity accuracy: 79.30 (last), 74.20 (average), 84.77 (best)\n",
      "Proportion weighting accuracy: 79.88 (last), 75.11 (average), 85.74 (best)\n",
      "\n"
     ]
    },
    {
     "name": "stderr",
     "output_type": "stream",
     "text": [
      " 99%|█████████▉| 992/1000 [4:56:41<00:14,  1.87s/it]"
     ]
    },
    {
     "name": "stdout",
     "output_type": "stream",
     "text": [
      "\n",
      "All activity accuracy: 78.52 (last), 74.27 (average), 84.77 (best)\n",
      "Proportion weighting accuracy: 78.71 (last), 75.16 (average), 85.74 (best)\n",
      "\n"
     ]
    },
    {
     "name": "stderr",
     "output_type": "stream",
     "text": [
      "1001it [4:56:55,  1.57s/it]                          "
     ]
    },
    {
     "name": "stdout",
     "output_type": "stream",
     "text": [
      "Progress: 1 / 1 (17815.8342 seconds)\n",
      "Training complete.\n",
      "\n"
     ]
    }
   ],
   "source": [
    "# Train the network.\n",
    "print(\"\\nBegin training.\\n\")\n",
    "start = t()\n",
    "\n",
    "for epoch in range(n_epochs):\n",
    "    labels = []\n",
    "\n",
    "    if epoch % progress_interval == 0:\n",
    "        print(\"\\n Progress: %d / %d (%.4f seconds)\" % (epoch, n_epochs, t() - start))\n",
    "        start = t()\n",
    "\n",
    "    # Create a dataloader to iterate and batch data\n",
    "    train_dataloader = DataLoader(\n",
    "        dataset,\n",
    "        batch_size=batch_size,\n",
    "        shuffle=True,\n",
    "        num_workers=n_workers,\n",
    "        pin_memory=gpu,\n",
    "    )\n",
    "\n",
    "    pbar_training = tqdm(total=n_train)\n",
    "    for step, batch in enumerate(train_dataloader):\n",
    "        if step > n_train:\n",
    "            break\n",
    "        # Get next input sample.\n",
    "        inputs = {\"X\": batch[\"encoded_image\"]}\n",
    "        if gpu:\n",
    "            inputs = {k: v.cuda() for k, v in inputs.items()}\n",
    "\n",
    "        if step % update_steps == 0 and step > 0:\n",
    "            # Convert the array of labels into a tensor\n",
    "            label_tensor = torch.tensor(labels, device=device)\n",
    "\n",
    "            # Get network predictions.\n",
    "            all_activity_pred = all_activity(\n",
    "                spikes=spike_record,\n",
    "                assignments=assignments,\n",
    "                n_labels=n_classes,\n",
    "            )\n",
    "            proportion_pred = proportion_weighting(\n",
    "                spikes=spike_record,\n",
    "                assignments=assignments,\n",
    "                proportions=proportions,\n",
    "                n_labels=n_classes,\n",
    "            )\n",
    "\n",
    "            # Compute network accuracy according to available classification strategies.\n",
    "            accuracy[\"all\"].append(\n",
    "                100\n",
    "                * torch.sum(label_tensor.long() == all_activity_pred).item()\n",
    "                / len(label_tensor)\n",
    "            )\n",
    "            accuracy[\"proportion\"].append(\n",
    "                100\n",
    "                * torch.sum(label_tensor.long() == proportion_pred).item()\n",
    "                / len(label_tensor)\n",
    "            )\n",
    "\n",
    "            print(\n",
    "                \"\\nAll activity accuracy: %.2f (last), %.2f (average), %.2f (best)\"\n",
    "                % (\n",
    "                    accuracy[\"all\"][-1],\n",
    "                    np.mean(accuracy[\"all\"]),\n",
    "                    np.max(accuracy[\"all\"]),\n",
    "                )\n",
    "            )\n",
    "            print(\n",
    "                \"Proportion weighting accuracy: %.2f (last), %.2f (average), %.2f\"\n",
    "                \" (best)\\n\"\n",
    "                % (\n",
    "                    accuracy[\"proportion\"][-1],\n",
    "                    np.mean(accuracy[\"proportion\"]),\n",
    "                    np.max(accuracy[\"proportion\"]),\n",
    "                )\n",
    "            )\n",
    "\n",
    "            # Assign labels to excitatory layer neurons.\n",
    "            assignments, proportions, rates = assign_labels(\n",
    "                spikes=spike_record,\n",
    "                labels=label_tensor,\n",
    "                n_labels=n_classes,\n",
    "                rates=rates,\n",
    "            )\n",
    "\n",
    "            labels = []\n",
    "\n",
    "        labels.extend(batch[\"label\"].tolist())\n",
    "\n",
    "        # Run the network on the input.\n",
    "        network.run(inputs=inputs, time=time, input_time_dim=1)\n",
    "\n",
    "        # Add to spikes recording.\n",
    "        s = spikes[\"Ae\"].get(\"s\").permute((1, 0, 2))\n",
    "        spike_record[\n",
    "            (step * batch_size)\n",
    "            % update_interval : (step * batch_size % update_interval)\n",
    "            + s.size(0)\n",
    "        ] = s\n",
    "\n",
    "        # Get voltage recording.\n",
    "        exc_voltages = exc_voltage_monitor.get(\"v\")\n",
    "        inh_voltages = inh_voltage_monitor.get(\"v\")\n",
    "\n",
    "#         # Optionally plot various simulation information.\n",
    "#         if plot:\n",
    "#             image = batch[\"image\"][:, 0].view(28, 28)\n",
    "#             inpt = inputs[\"X\"][:, 0].view(time, 784).sum(0).view(28, 28)\n",
    "#             input_exc_weights = network.connections[(\"X\", \"Ae\")].w\n",
    "#             square_weights = get_square_weights(\n",
    "#                 input_exc_weights.view(784, n_neurons), n_sqrt, 28\n",
    "#             )\n",
    "#             square_assignments = get_square_assignments(assignments, n_sqrt)\n",
    "#             spikes_ = {\n",
    "#                 layer: spikes[layer].get(\"s\")[:, 0].contiguous() for layer in spikes\n",
    "#             }\n",
    "#             voltages = {\"Ae\": exc_voltages, \"Ai\": inh_voltages}\n",
    "#             inpt_axes, inpt_ims = plot_input(\n",
    "#                 image, inpt, label=labels[step % update_steps], axes=inpt_axes, ims=inpt_ims\n",
    "#             )\n",
    "#             spike_ims, spike_axes = plot_spikes(spikes_, ims=spike_ims, axes=spike_axes)\n",
    "#             weights_im = plot_weights(square_weights, im=weights_im)\n",
    "#             assigns_im = plot_assignments(square_assignments, im=assigns_im)\n",
    "#             perf_ax = plot_performance(\n",
    "#                 accuracy, x_scale=update_steps * batch_size, ax=perf_ax\n",
    "#             )\n",
    "#             voltage_ims, voltage_axes = plot_voltages(\n",
    "#                 voltages, ims=voltage_ims, axes=voltage_axes, plot_type=\"line\"\n",
    "#             )\n",
    "\n",
    "#             plt.pause(1e-8)\n",
    "\n",
    "        network.reset_state_variables()  # Reset state variables.\n",
    "        pbar_training.update()\n",
    "\n",
    "print(\"Progress: %d / %d (%.4f seconds)\" % (epoch + 1, n_epochs, t() - start))\n",
    "print(\"Training complete.\\n\")"
   ]
  },
  {
   "cell_type": "code",
   "execution_count": null,
   "metadata": {},
   "outputs": [],
   "source": []
  }
 ],
 "metadata": {
  "kernelspec": {
   "display_name": "kongsr",
   "language": "python",
   "name": "kongsr"
  },
  "language_info": {
   "codemirror_mode": {
    "name": "ipython",
    "version": 3
   },
   "file_extension": ".py",
   "mimetype": "text/x-python",
   "name": "python",
   "nbconvert_exporter": "python",
   "pygments_lexer": "ipython3",
   "version": "3.7.7"
  }
 },
 "nbformat": 4,
 "nbformat_minor": 4
}
