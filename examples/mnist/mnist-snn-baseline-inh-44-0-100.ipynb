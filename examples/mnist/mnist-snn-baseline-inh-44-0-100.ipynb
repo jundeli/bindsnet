{
 "cells": [
  {
   "cell_type": "code",
   "execution_count": 1,
   "metadata": {},
   "outputs": [
    {
     "name": "stderr",
     "output_type": "stream",
     "text": [
      "\n",
      "Bad key \"text.kerning_factor\" on line 4 in\n",
      "/home/junde/miniconda3/envs/kongsr/lib/python3.7/site-packages/matplotlib/mpl-data/stylelib/_classic_test_patch.mplstyle.\n",
      "You probably need to get an updated matplotlibrc file from\n",
      "https://github.com/matplotlib/matplotlib/blob/v3.1.3/matplotlibrc.template\n",
      "or from the matplotlib source distribution\n"
     ]
    }
   ],
   "source": [
    "import os\n",
    "import torch\n",
    "import argparse\n",
    "import numpy as np\n",
    "import matplotlib.pyplot as plt\n",
    "\n",
    "from torchvision import transforms\n",
    "from tqdm import tqdm\n",
    "\n",
    "from time import time as t\n",
    "import sys\n",
    "sys.path.append('../../bindsnet')\n",
    "from network import Network\n",
    "\n",
    "from bindsnet import ROOT_DIR\n",
    "from bindsnet.datasets import MNIST, DataLoader\n",
    "from bindsnet.encoding import PoissonEncoder\n",
    "from bindsnet.evaluation import (\n",
    "    all_activity,\n",
    "    proportion_weighting,\n",
    "    assign_labels,\n",
    ")\n",
    "# from bindsnet.models import DiehlAndCook2015\n",
    "from bindsnet.network.monitors import Monitor\n",
    "from bindsnet.utils import get_square_weights, get_square_assignments\n",
    "from bindsnet.analysis.plotting import (\n",
    "    plot_input,\n",
    "    plot_spikes,\n",
    "    plot_weights,\n",
    "    plot_performance,\n",
    "    plot_assignments,\n",
    "    plot_voltages,\n",
    ")\n",
    "from typing import Optional, Union, Tuple, List, Sequence, Iterable\n",
    "from network.nodes import Input, LIFNodes, DiehlAndCookNodes, AdaptiveLIFNodes\n",
    "from network.topology import Connection, LocalConnection\n",
    "from learning import PostPre"
   ]
  },
  {
   "cell_type": "code",
   "execution_count": 2,
   "metadata": {},
   "outputs": [],
   "source": [
    "parser = argparse.ArgumentParser()\n",
    "parser.add_argument(\"--seed\", type=int, default=0)\n",
    "parser.add_argument(\"--n_neurons\", type=int, default=100)\n",
    "parser.add_argument(\"--batch_size\", type=int, default=32)\n",
    "parser.add_argument(\"--n_epochs\", type=int, default=1)\n",
    "parser.add_argument(\"--n_test\", type=int, default=10000)\n",
    "parser.add_argument(\"--n_train\", type=int, default=1000)\n",
    "parser.add_argument(\"--n_workers\", type=int, default=-1)\n",
    "parser.add_argument(\"--update_steps\", type=int, default=16)\n",
    "parser.add_argument(\"--exc\", type=float, default=22.5)\n",
    "parser.add_argument(\"--inh\", type=float, default=120)\n",
    "parser.add_argument(\"--theta_plus\", type=float, default=0.05)\n",
    "parser.add_argument(\"--time\", type=int, default=100)\n",
    "parser.add_argument(\"--dt\", type=int, default=1.0)\n",
    "parser.add_argument(\"--intensity\", type=float, default=128)\n",
    "parser.add_argument(\"--progress_interval\", type=int, default=10)\n",
    "parser.add_argument(\"--train\", dest=\"train\", action=\"store_true\")\n",
    "parser.add_argument(\"--test\", dest=\"train\", action=\"store_false\")\n",
    "parser.add_argument(\"--plot\", dest=\"plot\", action=\"store_true\")\n",
    "parser.add_argument(\"--gpu\", dest=\"gpu\", action=\"store_true\")\n",
    "parser.set_defaults(plot=True, gpu=False)\n",
    "\n",
    "args = parser.parse_known_args()[0]"
   ]
  },
  {
   "cell_type": "code",
   "execution_count": 3,
   "metadata": {},
   "outputs": [
    {
     "name": "stdout",
     "output_type": "stream",
     "text": [
      "Running on Device =  cpu\n"
     ]
    }
   ],
   "source": [
    "seed = args.seed\n",
    "n_neurons = args.n_neurons\n",
    "batch_size = args.batch_size\n",
    "n_epochs = args.n_epochs\n",
    "n_test = args.n_test\n",
    "n_train = args.n_train\n",
    "n_workers = args.n_workers\n",
    "update_steps = args.update_steps\n",
    "exc = args.exc\n",
    "inh = args.inh\n",
    "theta_plus = args.theta_plus\n",
    "time = args.time\n",
    "dt = args.dt\n",
    "intensity = args.intensity\n",
    "progress_interval = args.progress_interval\n",
    "train = args.train\n",
    "plot = args.plot\n",
    "gpu = args.gpu\n",
    "\n",
    "update_interval = update_steps * batch_size\n",
    "\n",
    "# Sets up Gpu use\n",
    "device = torch.device(\"cuda\" if torch.cuda.is_available() else \"cpu\")\n",
    "if gpu and torch.cuda.is_available():\n",
    "    torch.cuda.manual_seed_all(seed)\n",
    "else:\n",
    "    torch.manual_seed(seed)\n",
    "    device = \"cpu\"\n",
    "    if gpu:\n",
    "        gpu = False\n",
    "\n",
    "torch.set_num_threads(os.cpu_count() - 1)\n",
    "print(\"Running on Device = \", device)"
   ]
  },
  {
   "cell_type": "code",
   "execution_count": 4,
   "metadata": {},
   "outputs": [],
   "source": [
    "p1 = 0.75\n",
    "p2 = 0.25\n",
    "class DiehlAndCook2015(Network):\n",
    "    # language=rst\n",
    "    \"\"\"\n",
    "    Implements the spiking neural network architecture from `(Diehl & Cook 2015)\n",
    "    <https://www.frontiersin.org/articles/10.3389/fncom.2015.00099/full>`_.\n",
    "    \"\"\"\n",
    "\n",
    "    def __init__(\n",
    "        self,\n",
    "        n_inpt: int,\n",
    "        n_neurons: int = 100,\n",
    "        exc: float = 22.5,\n",
    "        inh: float = 17.5,\n",
    "        dt: float = 1.0,\n",
    "        nu: Optional[Union[float, Sequence[float]]] = (1e-4, 1e-2),\n",
    "        reduction: Optional[callable] = None,\n",
    "        wmin: float = 0.0,\n",
    "        wmax: float = 1.0,\n",
    "        norm: float = 78.4,\n",
    "        theta_plus: float = 0.05,\n",
    "        tc_theta_decay: float = 1e7,\n",
    "        inpt_shape: Optional[Iterable[int]] = None,\n",
    "    ) -> None:\n",
    "        # language=rst\n",
    "        \"\"\"\n",
    "        Constructor for class ``DiehlAndCook2015``.\n",
    "\n",
    "        :param n_inpt: Number of input neurons. Matches the 1D size of the input data.\n",
    "        :param n_neurons: Number of excitatory, inhibitory neurons.\n",
    "        :param exc: Strength of synapse weights from excitatory to inhibitory layer.\n",
    "        :param inh: Strength of synapse weights from inhibitory to excitatory layer.\n",
    "        :param dt: Simulation time step.\n",
    "        :param nu: Single or pair of learning rates for pre- and post-synaptic events,\n",
    "            respectively.\n",
    "        :param reduction: Method for reducing parameter updates along the minibatch\n",
    "            dimension.\n",
    "        :param wmin: Minimum allowed weight on input to excitatory synapses.\n",
    "        :param wmax: Maximum allowed weight on input to excitatory synapses.\n",
    "        :param norm: Input to excitatory layer connection weights normalization\n",
    "            constant.\n",
    "        :param theta_plus: On-spike increment of ``DiehlAndCookNodes`` membrane\n",
    "            threshold potential.\n",
    "        :param tc_theta_decay: Time constant of ``DiehlAndCookNodes`` threshold\n",
    "            potential decay.\n",
    "        :param inpt_shape: The dimensionality of the input layer.\n",
    "        \"\"\"\n",
    "        super().__init__(dt=dt)\n",
    "\n",
    "        self.n_inpt = n_inpt\n",
    "        self.inpt_shape = inpt_shape\n",
    "        self.n_neurons = n_neurons\n",
    "        self.exc = exc\n",
    "        self.inh = inh\n",
    "        self.dt = dt\n",
    "\n",
    "        # Layers\n",
    "        input_layer = Input(\n",
    "            n=self.n_inpt, shape=self.inpt_shape, traces=True, tc_trace=20.0\n",
    "        )\n",
    "        exc_layer = DiehlAndCookNodes(\n",
    "            n=self.n_neurons,\n",
    "            traces=True,\n",
    "            rest=-65.0,\n",
    "            reset=-60.0,\n",
    "            thresh=-52.0,\n",
    "            refrac=5,\n",
    "            tc_decay=100.0,\n",
    "            tc_trace=20.0,\n",
    "            theta_plus=theta_plus,\n",
    "            tc_theta_decay=tc_theta_decay,\n",
    "        )\n",
    "        inh_layer_1 = LIFNodes(\n",
    "            n=int(self.n_neurons*p1),\n",
    "            traces=False,\n",
    "            rest=-60.0,\n",
    "            reset=-45.0,\n",
    "            thresh=-40.0,\n",
    "            tc_decay=10.0,\n",
    "            refrac=2,\n",
    "            tc_trace=20.0,\n",
    "        )\n",
    "        inh_layer_2 = LIFNodes(\n",
    "            n=int(self.n_neurons*p2),\n",
    "            traces=False,\n",
    "            rest=-60.0,\n",
    "            reset=-45.0,\n",
    "            thresh=-44,\n",
    "            tc_decay=10.0,\n",
    "            refrac=2,\n",
    "            tc_trace=20.0,\n",
    "        )\n",
    "\n",
    "        # Connections\n",
    "        w = 0.3 * torch.rand(self.n_inpt, self.n_neurons)\n",
    "        input_exc_conn = Connection(\n",
    "            source=input_layer,\n",
    "            target=exc_layer,\n",
    "            w=w,\n",
    "            update_rule=PostPre,\n",
    "            nu=nu,\n",
    "            reduction=reduction,\n",
    "            wmin=wmin,\n",
    "            wmax=wmax,\n",
    "            norm=norm,\n",
    "        )\n",
    "        w = self.exc * torch.diag(torch.ones(self.n_neurons))\n",
    "        exc_inh_conn_1 = Connection(\n",
    "            source=exc_layer, target=inh_layer_1, w=w[:, :int(self.n_neurons*p1)], wmin=0, wmax=self.exc\n",
    "        )\n",
    "        exc_inh_conn_2 = Connection(\n",
    "            source=exc_layer, target=inh_layer_2, w=w[:, int(self.n_neurons*p1):], wmin=0, wmax=self.exc\n",
    "        )\n",
    "        w = -self.inh * (\n",
    "            torch.ones(self.n_neurons, self.n_neurons)\n",
    "            - torch.diag(torch.ones(self.n_neurons))\n",
    "        )\n",
    "        inh_exc_conn_1 = Connection(\n",
    "            source=inh_layer_1, target=exc_layer, w=w[:int(self.n_neurons*p1), :], wmin=-self.inh, wmax=0\n",
    "        )\n",
    "        inh_exc_conn_2 = Connection(\n",
    "            source=inh_layer_2, target=exc_layer, w=w[int(self.n_neurons*p1):, :], wmin=-self.inh, wmax=0\n",
    "        )\n",
    "\n",
    "        # Add to network\n",
    "        self.add_layer(input_layer, name=\"X\")\n",
    "        self.add_layer(exc_layer, name=\"Ae\")\n",
    "        self.add_layer(inh_layer_1, name=\"Ai1\")\n",
    "        self.add_layer(inh_layer_2, name=\"Ai2\")\n",
    "        self.add_connection(input_exc_conn, source=\"X\", target=\"Ae\")\n",
    "        self.add_connection(exc_inh_conn_1, source=\"Ae\", target=\"Ai1\")\n",
    "        self.add_connection(exc_inh_conn_2, source=\"Ae\", target=\"Ai2\")\n",
    "        self.add_connection(inh_exc_conn_1, source=\"Ai1\", target=\"Ae\")\n",
    "        self.add_connection(inh_exc_conn_2, source=\"Ai2\", target=\"Ae\")"
   ]
  },
  {
   "cell_type": "code",
   "execution_count": 5,
   "metadata": {},
   "outputs": [],
   "source": [
    "# Determines number of workers to use\n",
    "if n_workers == -1:\n",
    "    n_workers = gpu * 4 * torch.cuda.device_count()\n",
    "\n",
    "n_sqrt = int(np.ceil(np.sqrt(n_neurons)))\n",
    "start_intensity = intensity\n",
    "\n",
    "# Build network.\n",
    "network = DiehlAndCook2015(\n",
    "    n_inpt=784,\n",
    "    n_neurons=n_neurons,\n",
    "    exc=exc,\n",
    "    inh=inh,\n",
    "    dt=dt,\n",
    "    norm=78.4,\n",
    "    nu=(1e-4, 1e-2),\n",
    "    theta_plus=theta_plus,\n",
    "    inpt_shape=(1, 28, 28),\n",
    ")\n",
    "\n",
    "# Directs network to GPU\n",
    "if gpu:\n",
    "    network.to(\"cuda\")"
   ]
  },
  {
   "cell_type": "code",
   "execution_count": 6,
   "metadata": {},
   "outputs": [],
   "source": [
    "# Load MNIST data.\n",
    "dataset = MNIST(\n",
    "    PoissonEncoder(time=time, dt=dt),\n",
    "    None,\n",
    "    root=os.path.join(ROOT_DIR, \"data\", \"MNIST\"),\n",
    "    download=True,\n",
    "    transform=transforms.Compose(\n",
    "        [transforms.ToTensor(), transforms.Lambda(lambda x: x * intensity)]\n",
    "    ),\n",
    ")"
   ]
  },
  {
   "cell_type": "code",
   "execution_count": 7,
   "metadata": {},
   "outputs": [],
   "source": [
    "# Neuron assignments and spike proportions.\n",
    "n_classes = 10\n",
    "assignments = -torch.ones(n_neurons, device=device)\n",
    "proportions = torch.zeros((n_neurons, n_classes), device=device)\n",
    "rates = torch.zeros((n_neurons, n_classes), device=device)\n",
    "\n",
    "# Sequence of accuracy estimates.\n",
    "accuracy = {\"all\": [], \"proportion\": []}\n",
    "\n",
    "# Voltage recording for excitatory and inhibitory layers.\n",
    "exc_voltage_monitor = Monitor(network.layers[\"Ae\"], [\"v\"], time=int(time / dt))\n",
    "inh_voltage_monitor_1 = Monitor(network.layers[\"Ai1\"], [\"v\"], time=int(time / dt))\n",
    "inh_voltage_monitor_2 = Monitor(network.layers[\"Ai2\"], [\"v\"], time=int(time / dt))\n",
    "network.add_monitor(exc_voltage_monitor, name=\"exc_voltage\")\n",
    "network.add_monitor(inh_voltage_monitor_1, name=\"inh_voltage_1\")\n",
    "network.add_monitor(inh_voltage_monitor_2, name=\"inh_voltage_2\")\n",
    "\n",
    "\n",
    "# Set up monitors for spikes and voltages\n",
    "spikes = {}\n",
    "for layer in set(network.layers):\n",
    "    spikes[layer] = Monitor(\n",
    "        network.layers[layer], state_vars=[\"s\"], time=int(time / dt)\n",
    "    )\n",
    "    network.add_monitor(spikes[layer], name=\"%s_spikes\" % layer)\n",
    "\n",
    "voltages = {}\n",
    "for layer in set(network.layers) - {\"X\"}:\n",
    "    voltages[layer] = Monitor(\n",
    "        network.layers[layer], state_vars=[\"v\"], time=int(time / dt)\n",
    "    )\n",
    "    network.add_monitor(voltages[layer], name=\"%s_voltages\" % layer)\n",
    "\n",
    "inpt_ims, inpt_axes = None, None\n",
    "spike_ims, spike_axes = None, None\n",
    "weights_im = None\n",
    "assigns_im = None\n",
    "perf_ax = None\n",
    "voltage_axes, voltage_ims = None, None\n",
    "\n",
    "spike_record = torch.zeros((update_interval, int(time / dt), n_neurons), device=device)"
   ]
  },
  {
   "cell_type": "code",
   "execution_count": 8,
   "metadata": {},
   "outputs": [
    {
     "name": "stderr",
     "output_type": "stream",
     "text": [
      "\r",
      "  0%|          | 0/1000 [00:00<?, ?it/s]"
     ]
    },
    {
     "name": "stdout",
     "output_type": "stream",
     "text": [
      "\n",
      "Begin training.\n",
      "\n",
      "\n",
      " Progress: 0 / 1 (0.0003 seconds)\n"
     ]
    },
    {
     "name": "stderr",
     "output_type": "stream",
     "text": [
      "  2%|▏         | 16/1000 [00:10<09:45,  1.68it/s]"
     ]
    },
    {
     "name": "stdout",
     "output_type": "stream",
     "text": [
      "\n",
      "All activity accuracy: 8.59 (last), 8.59 (average), 8.59 (best)\n",
      "Proportion weighting accuracy: 8.59 (last), 8.59 (average), 8.59 (best)\n",
      "\n"
     ]
    },
    {
     "name": "stderr",
     "output_type": "stream",
     "text": [
      "  3%|▎         | 32/1000 [00:21<11:00,  1.47it/s]"
     ]
    },
    {
     "name": "stdout",
     "output_type": "stream",
     "text": [
      "\n",
      "All activity accuracy: 23.83 (last), 16.21 (average), 23.83 (best)\n",
      "Proportion weighting accuracy: 24.22 (last), 16.41 (average), 24.22 (best)\n",
      "\n"
     ]
    },
    {
     "name": "stderr",
     "output_type": "stream",
     "text": [
      "  5%|▍         | 48/1000 [00:31<09:51,  1.61it/s]"
     ]
    },
    {
     "name": "stdout",
     "output_type": "stream",
     "text": [
      "\n",
      "All activity accuracy: 24.22 (last), 18.88 (average), 24.22 (best)\n",
      "Proportion weighting accuracy: 24.22 (last), 19.01 (average), 24.22 (best)\n",
      "\n"
     ]
    },
    {
     "name": "stderr",
     "output_type": "stream",
     "text": [
      "  6%|▋         | 64/1000 [00:43<11:01,  1.41it/s]"
     ]
    },
    {
     "name": "stdout",
     "output_type": "stream",
     "text": [
      "\n",
      "All activity accuracy: 22.66 (last), 19.82 (average), 24.22 (best)\n",
      "Proportion weighting accuracy: 23.44 (last), 20.12 (average), 24.22 (best)\n",
      "\n"
     ]
    },
    {
     "name": "stderr",
     "output_type": "stream",
     "text": [
      "  8%|▊         | 80/1000 [00:54<10:44,  1.43it/s]"
     ]
    },
    {
     "name": "stdout",
     "output_type": "stream",
     "text": [
      "\n",
      "All activity accuracy: 30.86 (last), 22.03 (average), 30.86 (best)\n",
      "Proportion weighting accuracy: 30.47 (last), 22.19 (average), 30.47 (best)\n",
      "\n"
     ]
    },
    {
     "name": "stderr",
     "output_type": "stream",
     "text": [
      " 10%|▉         | 96/1000 [01:05<10:24,  1.45it/s]"
     ]
    },
    {
     "name": "stdout",
     "output_type": "stream",
     "text": [
      "\n",
      "All activity accuracy: 31.84 (last), 23.67 (average), 31.84 (best)\n",
      "Proportion weighting accuracy: 29.49 (last), 23.40 (average), 30.47 (best)\n",
      "\n"
     ]
    },
    {
     "name": "stderr",
     "output_type": "stream",
     "text": [
      " 11%|█         | 112/1000 [01:16<10:38,  1.39it/s]"
     ]
    },
    {
     "name": "stdout",
     "output_type": "stream",
     "text": [
      "\n",
      "All activity accuracy: 33.59 (last), 25.08 (average), 33.59 (best)\n",
      "Proportion weighting accuracy: 33.79 (last), 24.89 (average), 33.79 (best)\n",
      "\n"
     ]
    },
    {
     "name": "stderr",
     "output_type": "stream",
     "text": [
      " 13%|█▎        | 128/1000 [01:28<11:58,  1.21it/s]"
     ]
    },
    {
     "name": "stdout",
     "output_type": "stream",
     "text": [
      "\n",
      "All activity accuracy: 34.38 (last), 26.25 (average), 34.38 (best)\n",
      "Proportion weighting accuracy: 35.55 (last), 26.22 (average), 35.55 (best)\n",
      "\n"
     ]
    },
    {
     "name": "stderr",
     "output_type": "stream",
     "text": [
      " 14%|█▍        | 144/1000 [01:40<10:14,  1.39it/s]"
     ]
    },
    {
     "name": "stdout",
     "output_type": "stream",
     "text": [
      "\n",
      "All activity accuracy: 31.45 (last), 26.82 (average), 34.38 (best)\n",
      "Proportion weighting accuracy: 31.84 (last), 26.84 (average), 35.55 (best)\n",
      "\n"
     ]
    },
    {
     "name": "stderr",
     "output_type": "stream",
     "text": [
      " 16%|█▌        | 160/1000 [01:51<09:35,  1.46it/s]"
     ]
    },
    {
     "name": "stdout",
     "output_type": "stream",
     "text": [
      "\n",
      "All activity accuracy: 56.45 (last), 29.79 (average), 56.45 (best)\n",
      "Proportion weighting accuracy: 57.62 (last), 29.92 (average), 57.62 (best)\n",
      "\n"
     ]
    },
    {
     "name": "stderr",
     "output_type": "stream",
     "text": [
      " 18%|█▊        | 176/1000 [02:01<08:45,  1.57it/s]"
     ]
    },
    {
     "name": "stdout",
     "output_type": "stream",
     "text": [
      "\n",
      "All activity accuracy: 67.38 (last), 33.20 (average), 67.38 (best)\n",
      "Proportion weighting accuracy: 68.36 (last), 33.42 (average), 68.36 (best)\n",
      "\n"
     ]
    },
    {
     "name": "stderr",
     "output_type": "stream",
     "text": [
      " 19%|█▉        | 192/1000 [02:12<08:53,  1.51it/s]"
     ]
    },
    {
     "name": "stdout",
     "output_type": "stream",
     "text": [
      "\n",
      "All activity accuracy: 72.46 (last), 36.47 (average), 72.46 (best)\n",
      "Proportion weighting accuracy: 72.46 (last), 36.67 (average), 72.46 (best)\n",
      "\n"
     ]
    },
    {
     "name": "stderr",
     "output_type": "stream",
     "text": [
      " 21%|██        | 208/1000 [02:23<08:36,  1.53it/s]"
     ]
    },
    {
     "name": "stdout",
     "output_type": "stream",
     "text": [
      "\n",
      "All activity accuracy: 67.19 (last), 38.84 (average), 72.46 (best)\n",
      "Proportion weighting accuracy: 67.97 (last), 39.08 (average), 72.46 (best)\n",
      "\n"
     ]
    },
    {
     "name": "stderr",
     "output_type": "stream",
     "text": [
      " 22%|██▏       | 224/1000 [02:35<08:22,  1.54it/s]"
     ]
    },
    {
     "name": "stdout",
     "output_type": "stream",
     "text": [
      "\n",
      "All activity accuracy: 75.59 (last), 41.46 (average), 75.59 (best)\n",
      "Proportion weighting accuracy: 76.76 (last), 41.77 (average), 76.76 (best)\n",
      "\n"
     ]
    },
    {
     "name": "stderr",
     "output_type": "stream",
     "text": [
      " 24%|██▍       | 240/1000 [02:45<07:53,  1.60it/s]"
     ]
    },
    {
     "name": "stdout",
     "output_type": "stream",
     "text": [
      "\n",
      "All activity accuracy: 75.00 (last), 43.70 (average), 75.59 (best)\n",
      "Proportion weighting accuracy: 75.98 (last), 44.05 (average), 76.76 (best)\n",
      "\n"
     ]
    },
    {
     "name": "stderr",
     "output_type": "stream",
     "text": [
      " 26%|██▌       | 256/1000 [02:55<07:46,  1.60it/s]"
     ]
    },
    {
     "name": "stdout",
     "output_type": "stream",
     "text": [
      "\n",
      "All activity accuracy: 78.71 (last), 45.89 (average), 78.71 (best)\n",
      "Proportion weighting accuracy: 81.25 (last), 46.37 (average), 81.25 (best)\n",
      "\n"
     ]
    },
    {
     "name": "stderr",
     "output_type": "stream",
     "text": [
      " 27%|██▋       | 272/1000 [03:05<07:33,  1.61it/s]"
     ]
    },
    {
     "name": "stdout",
     "output_type": "stream",
     "text": [
      "\n",
      "All activity accuracy: 76.56 (last), 47.69 (average), 78.71 (best)\n",
      "Proportion weighting accuracy: 77.73 (last), 48.22 (average), 81.25 (best)\n",
      "\n"
     ]
    },
    {
     "name": "stderr",
     "output_type": "stream",
     "text": [
      " 29%|██▉       | 288/1000 [03:15<07:38,  1.55it/s]"
     ]
    },
    {
     "name": "stdout",
     "output_type": "stream",
     "text": [
      "\n",
      "All activity accuracy: 77.93 (last), 49.37 (average), 78.71 (best)\n",
      "Proportion weighting accuracy: 78.71 (last), 49.91 (average), 81.25 (best)\n",
      "\n"
     ]
    },
    {
     "name": "stderr",
     "output_type": "stream",
     "text": [
      " 30%|███       | 304/1000 [03:25<06:54,  1.68it/s]"
     ]
    },
    {
     "name": "stdout",
     "output_type": "stream",
     "text": [
      "\n",
      "All activity accuracy: 76.95 (last), 50.82 (average), 78.71 (best)\n",
      "Proportion weighting accuracy: 79.10 (last), 51.45 (average), 81.25 (best)\n",
      "\n"
     ]
    },
    {
     "name": "stderr",
     "output_type": "stream",
     "text": [
      " 32%|███▏      | 320/1000 [03:35<07:40,  1.48it/s]"
     ]
    },
    {
     "name": "stdout",
     "output_type": "stream",
     "text": [
      "\n",
      "All activity accuracy: 78.32 (last), 52.20 (average), 78.71 (best)\n",
      "Proportion weighting accuracy: 80.27 (last), 52.89 (average), 81.25 (best)\n",
      "\n"
     ]
    },
    {
     "name": "stderr",
     "output_type": "stream",
     "text": [
      " 34%|███▎      | 336/1000 [03:49<10:07,  1.09it/s]"
     ]
    },
    {
     "name": "stdout",
     "output_type": "stream",
     "text": [
      "\n",
      "All activity accuracy: 79.88 (last), 53.52 (average), 79.88 (best)\n",
      "Proportion weighting accuracy: 82.62 (last), 54.31 (average), 82.62 (best)\n",
      "\n"
     ]
    },
    {
     "name": "stderr",
     "output_type": "stream",
     "text": [
      " 35%|███▌      | 352/1000 [04:03<08:04,  1.34it/s]"
     ]
    },
    {
     "name": "stdout",
     "output_type": "stream",
     "text": [
      "\n",
      "All activity accuracy: 76.95 (last), 54.58 (average), 79.88 (best)\n",
      "Proportion weighting accuracy: 79.88 (last), 55.47 (average), 82.62 (best)\n",
      "\n"
     ]
    },
    {
     "name": "stderr",
     "output_type": "stream",
     "text": [
      " 37%|███▋      | 368/1000 [04:13<06:42,  1.57it/s]"
     ]
    },
    {
     "name": "stdout",
     "output_type": "stream",
     "text": [
      "\n",
      "All activity accuracy: 79.10 (last), 55.65 (average), 79.88 (best)\n",
      "Proportion weighting accuracy: 81.84 (last), 56.62 (average), 82.62 (best)\n",
      "\n"
     ]
    },
    {
     "name": "stderr",
     "output_type": "stream",
     "text": [
      " 38%|███▊      | 384/1000 [04:24<06:53,  1.49it/s]"
     ]
    },
    {
     "name": "stdout",
     "output_type": "stream",
     "text": [
      "\n",
      "All activity accuracy: 81.05 (last), 56.71 (average), 81.05 (best)\n",
      "Proportion weighting accuracy: 82.42 (last), 57.69 (average), 82.62 (best)\n",
      "\n"
     ]
    },
    {
     "name": "stderr",
     "output_type": "stream",
     "text": [
      " 40%|████      | 400/1000 [04:34<06:27,  1.55it/s]"
     ]
    },
    {
     "name": "stdout",
     "output_type": "stream",
     "text": [
      "\n",
      "All activity accuracy: 80.47 (last), 57.66 (average), 81.05 (best)\n",
      "Proportion weighting accuracy: 82.23 (last), 58.67 (average), 82.62 (best)\n",
      "\n"
     ]
    },
    {
     "name": "stderr",
     "output_type": "stream",
     "text": [
      " 42%|████▏     | 416/1000 [04:45<06:15,  1.56it/s]"
     ]
    },
    {
     "name": "stdout",
     "output_type": "stream",
     "text": [
      "\n",
      "All activity accuracy: 79.88 (last), 58.51 (average), 81.05 (best)\n",
      "Proportion weighting accuracy: 80.47 (last), 59.51 (average), 82.62 (best)\n",
      "\n"
     ]
    },
    {
     "name": "stderr",
     "output_type": "stream",
     "text": [
      " 43%|████▎     | 432/1000 [04:55<06:13,  1.52it/s]"
     ]
    },
    {
     "name": "stdout",
     "output_type": "stream",
     "text": [
      "\n",
      "All activity accuracy: 83.01 (last), 59.42 (average), 83.01 (best)\n",
      "Proportion weighting accuracy: 84.57 (last), 60.44 (average), 84.57 (best)\n",
      "\n"
     ]
    },
    {
     "name": "stderr",
     "output_type": "stream",
     "text": [
      " 45%|████▍     | 448/1000 [05:06<06:00,  1.53it/s]"
     ]
    },
    {
     "name": "stdout",
     "output_type": "stream",
     "text": [
      "\n",
      "All activity accuracy: 84.38 (last), 60.31 (average), 84.38 (best)\n",
      "Proportion weighting accuracy: 86.13 (last), 61.36 (average), 86.13 (best)\n",
      "\n"
     ]
    },
    {
     "name": "stderr",
     "output_type": "stream",
     "text": [
      " 46%|████▋     | 464/1000 [05:16<05:57,  1.50it/s]"
     ]
    },
    {
     "name": "stdout",
     "output_type": "stream",
     "text": [
      "\n",
      "All activity accuracy: 81.05 (last), 61.03 (average), 84.38 (best)\n",
      "Proportion weighting accuracy: 83.40 (last), 62.12 (average), 86.13 (best)\n",
      "\n"
     ]
    },
    {
     "name": "stderr",
     "output_type": "stream",
     "text": [
      " 48%|████▊     | 480/1000 [05:26<05:06,  1.70it/s]"
     ]
    },
    {
     "name": "stdout",
     "output_type": "stream",
     "text": [
      "\n",
      "All activity accuracy: 79.49 (last), 61.64 (average), 84.38 (best)\n",
      "Proportion weighting accuracy: 80.47 (last), 62.73 (average), 86.13 (best)\n",
      "\n"
     ]
    },
    {
     "name": "stderr",
     "output_type": "stream",
     "text": [
      " 50%|████▉     | 496/1000 [05:36<05:27,  1.54it/s]"
     ]
    },
    {
     "name": "stdout",
     "output_type": "stream",
     "text": [
      "\n",
      "All activity accuracy: 80.08 (last), 62.24 (average), 84.38 (best)\n",
      "Proportion weighting accuracy: 82.03 (last), 63.35 (average), 86.13 (best)\n",
      "\n"
     ]
    },
    {
     "name": "stderr",
     "output_type": "stream",
     "text": [
      " 51%|█████     | 512/1000 [05:49<06:17,  1.29it/s]"
     ]
    },
    {
     "name": "stdout",
     "output_type": "stream",
     "text": [
      "\n",
      "All activity accuracy: 78.32 (last), 62.74 (average), 84.38 (best)\n",
      "Proportion weighting accuracy: 80.86 (last), 63.90 (average), 86.13 (best)\n",
      "\n"
     ]
    },
    {
     "name": "stderr",
     "output_type": "stream",
     "text": [
      " 53%|█████▎    | 528/1000 [05:59<04:44,  1.66it/s]"
     ]
    },
    {
     "name": "stdout",
     "output_type": "stream",
     "text": [
      "\n",
      "All activity accuracy: 80.47 (last), 63.28 (average), 84.38 (best)\n",
      "Proportion weighting accuracy: 80.66 (last), 64.41 (average), 86.13 (best)\n",
      "\n"
     ]
    },
    {
     "name": "stderr",
     "output_type": "stream",
     "text": [
      " 54%|█████▍    | 544/1000 [06:10<05:17,  1.44it/s]"
     ]
    },
    {
     "name": "stdout",
     "output_type": "stream",
     "text": [
      "\n",
      "All activity accuracy: 80.66 (last), 63.79 (average), 84.38 (best)\n",
      "Proportion weighting accuracy: 80.27 (last), 64.87 (average), 86.13 (best)\n",
      "\n"
     ]
    },
    {
     "name": "stderr",
     "output_type": "stream",
     "text": [
      " 56%|█████▌    | 560/1000 [06:20<04:46,  1.54it/s]"
     ]
    },
    {
     "name": "stdout",
     "output_type": "stream",
     "text": [
      "\n",
      "All activity accuracy: 82.03 (last), 64.31 (average), 84.38 (best)\n",
      "Proportion weighting accuracy: 82.42 (last), 65.37 (average), 86.13 (best)\n",
      "\n"
     ]
    },
    {
     "name": "stderr",
     "output_type": "stream",
     "text": [
      " 58%|█████▊    | 576/1000 [06:30<04:34,  1.55it/s]"
     ]
    },
    {
     "name": "stdout",
     "output_type": "stream",
     "text": [
      "\n",
      "All activity accuracy: 82.23 (last), 64.81 (average), 84.38 (best)\n",
      "Proportion weighting accuracy: 82.81 (last), 65.86 (average), 86.13 (best)\n",
      "\n"
     ]
    },
    {
     "name": "stderr",
     "output_type": "stream",
     "text": [
      " 59%|█████▉    | 592/1000 [06:40<04:17,  1.59it/s]"
     ]
    },
    {
     "name": "stdout",
     "output_type": "stream",
     "text": [
      "\n",
      "All activity accuracy: 82.81 (last), 65.29 (average), 84.38 (best)\n",
      "Proportion weighting accuracy: 84.77 (last), 66.37 (average), 86.13 (best)\n",
      "\n"
     ]
    },
    {
     "name": "stderr",
     "output_type": "stream",
     "text": [
      " 61%|██████    | 608/1000 [06:51<04:15,  1.54it/s]"
     ]
    },
    {
     "name": "stdout",
     "output_type": "stream",
     "text": [
      "\n",
      "All activity accuracy: 82.23 (last), 65.74 (average), 84.38 (best)\n",
      "Proportion weighting accuracy: 82.03 (last), 66.78 (average), 86.13 (best)\n",
      "\n"
     ]
    },
    {
     "name": "stderr",
     "output_type": "stream",
     "text": [
      " 62%|██████▏   | 624/1000 [07:02<04:03,  1.54it/s]"
     ]
    },
    {
     "name": "stdout",
     "output_type": "stream",
     "text": [
      "\n",
      "All activity accuracy: 82.62 (last), 66.17 (average), 84.38 (best)\n",
      "Proportion weighting accuracy: 83.59 (last), 67.21 (average), 86.13 (best)\n",
      "\n"
     ]
    },
    {
     "name": "stderr",
     "output_type": "stream",
     "text": [
      " 64%|██████▍   | 640/1000 [07:12<03:45,  1.60it/s]"
     ]
    },
    {
     "name": "stdout",
     "output_type": "stream",
     "text": [
      "\n",
      "All activity accuracy: 80.86 (last), 66.54 (average), 84.38 (best)\n",
      "Proportion weighting accuracy: 82.81 (last), 67.60 (average), 86.13 (best)\n",
      "\n"
     ]
    },
    {
     "name": "stderr",
     "output_type": "stream",
     "text": [
      " 66%|██████▌   | 656/1000 [07:23<03:29,  1.65it/s]"
     ]
    },
    {
     "name": "stdout",
     "output_type": "stream",
     "text": [
      "\n",
      "All activity accuracy: 81.45 (last), 66.90 (average), 84.38 (best)\n",
      "Proportion weighting accuracy: 82.03 (last), 67.95 (average), 86.13 (best)\n",
      "\n"
     ]
    },
    {
     "name": "stderr",
     "output_type": "stream",
     "text": [
      " 67%|██████▋   | 672/1000 [07:34<03:50,  1.43it/s]"
     ]
    },
    {
     "name": "stdout",
     "output_type": "stream",
     "text": [
      "\n",
      "All activity accuracy: 80.47 (last), 67.22 (average), 84.38 (best)\n",
      "Proportion weighting accuracy: 82.62 (last), 68.30 (average), 86.13 (best)\n",
      "\n"
     ]
    },
    {
     "name": "stderr",
     "output_type": "stream",
     "text": [
      " 69%|██████▉   | 688/1000 [07:46<03:36,  1.44it/s]"
     ]
    },
    {
     "name": "stdout",
     "output_type": "stream",
     "text": [
      "\n",
      "All activity accuracy: 75.78 (last), 67.42 (average), 84.38 (best)\n",
      "Proportion weighting accuracy: 77.54 (last), 68.52 (average), 86.13 (best)\n",
      "\n"
     ]
    },
    {
     "name": "stderr",
     "output_type": "stream",
     "text": [
      " 70%|███████   | 704/1000 [07:57<03:27,  1.43it/s]"
     ]
    },
    {
     "name": "stdout",
     "output_type": "stream",
     "text": [
      "\n",
      "All activity accuracy: 83.01 (last), 67.78 (average), 84.38 (best)\n",
      "Proportion weighting accuracy: 83.40 (last), 68.86 (average), 86.13 (best)\n",
      "\n"
     ]
    },
    {
     "name": "stderr",
     "output_type": "stream",
     "text": [
      " 72%|███████▏  | 720/1000 [08:07<03:10,  1.47it/s]"
     ]
    },
    {
     "name": "stdout",
     "output_type": "stream",
     "text": [
      "\n",
      "All activity accuracy: 81.84 (last), 68.09 (average), 84.38 (best)\n",
      "Proportion weighting accuracy: 82.81 (last), 69.17 (average), 86.13 (best)\n",
      "\n"
     ]
    },
    {
     "name": "stderr",
     "output_type": "stream",
     "text": [
      " 74%|███████▎  | 736/1000 [08:18<03:00,  1.46it/s]"
     ]
    },
    {
     "name": "stdout",
     "output_type": "stream",
     "text": [
      "\n",
      "All activity accuracy: 79.30 (last), 68.33 (average), 84.38 (best)\n",
      "Proportion weighting accuracy: 81.05 (last), 69.43 (average), 86.13 (best)\n",
      "\n"
     ]
    },
    {
     "name": "stderr",
     "output_type": "stream",
     "text": [
      " 75%|███████▌  | 752/1000 [08:30<03:20,  1.23it/s]"
     ]
    },
    {
     "name": "stdout",
     "output_type": "stream",
     "text": [
      "\n",
      "All activity accuracy: 81.45 (last), 68.61 (average), 84.38 (best)\n",
      "Proportion weighting accuracy: 82.81 (last), 69.71 (average), 86.13 (best)\n",
      "\n"
     ]
    },
    {
     "name": "stderr",
     "output_type": "stream",
     "text": [
      " 77%|███████▋  | 768/1000 [08:41<02:31,  1.53it/s]"
     ]
    },
    {
     "name": "stdout",
     "output_type": "stream",
     "text": [
      "\n",
      "All activity accuracy: 80.27 (last), 68.86 (average), 84.38 (best)\n",
      "Proportion weighting accuracy: 80.86 (last), 69.94 (average), 86.13 (best)\n",
      "\n"
     ]
    },
    {
     "name": "stderr",
     "output_type": "stream",
     "text": [
      " 78%|███████▊  | 784/1000 [08:51<02:17,  1.57it/s]"
     ]
    },
    {
     "name": "stdout",
     "output_type": "stream",
     "text": [
      "\n",
      "All activity accuracy: 79.30 (last), 69.07 (average), 84.38 (best)\n",
      "Proportion weighting accuracy: 81.45 (last), 70.18 (average), 86.13 (best)\n",
      "\n"
     ]
    },
    {
     "name": "stderr",
     "output_type": "stream",
     "text": [
      " 80%|████████  | 800/1000 [09:01<02:07,  1.57it/s]"
     ]
    },
    {
     "name": "stdout",
     "output_type": "stream",
     "text": [
      "\n",
      "All activity accuracy: 80.47 (last), 69.30 (average), 84.38 (best)\n",
      "Proportion weighting accuracy: 83.40 (last), 70.44 (average), 86.13 (best)\n",
      "\n"
     ]
    },
    {
     "name": "stderr",
     "output_type": "stream",
     "text": [
      " 82%|████████▏ | 816/1000 [09:11<01:50,  1.67it/s]"
     ]
    },
    {
     "name": "stdout",
     "output_type": "stream",
     "text": [
      "\n",
      "All activity accuracy: 80.47 (last), 69.52 (average), 84.38 (best)\n",
      "Proportion weighting accuracy: 82.42 (last), 70.68 (average), 86.13 (best)\n",
      "\n"
     ]
    },
    {
     "name": "stderr",
     "output_type": "stream",
     "text": [
      " 83%|████████▎ | 832/1000 [09:21<01:40,  1.67it/s]"
     ]
    },
    {
     "name": "stdout",
     "output_type": "stream",
     "text": [
      "\n",
      "All activity accuracy: 77.93 (last), 69.68 (average), 84.38 (best)\n",
      "Proportion weighting accuracy: 79.49 (last), 70.85 (average), 86.13 (best)\n",
      "\n"
     ]
    },
    {
     "name": "stderr",
     "output_type": "stream",
     "text": [
      " 85%|████████▍ | 848/1000 [09:31<01:32,  1.65it/s]"
     ]
    },
    {
     "name": "stdout",
     "output_type": "stream",
     "text": [
      "\n",
      "All activity accuracy: 76.95 (last), 69.82 (average), 84.38 (best)\n",
      "Proportion weighting accuracy: 78.12 (last), 70.98 (average), 86.13 (best)\n",
      "\n"
     ]
    },
    {
     "name": "stderr",
     "output_type": "stream",
     "text": [
      " 86%|████████▋ | 864/1000 [09:41<01:24,  1.62it/s]"
     ]
    },
    {
     "name": "stdout",
     "output_type": "stream",
     "text": [
      "\n",
      "All activity accuracy: 83.98 (last), 70.08 (average), 84.38 (best)\n",
      "Proportion weighting accuracy: 84.96 (last), 71.24 (average), 86.13 (best)\n",
      "\n"
     ]
    },
    {
     "name": "stderr",
     "output_type": "stream",
     "text": [
      " 88%|████████▊ | 880/1000 [09:52<01:25,  1.41it/s]"
     ]
    },
    {
     "name": "stdout",
     "output_type": "stream",
     "text": [
      "\n",
      "All activity accuracy: 78.71 (last), 70.23 (average), 84.38 (best)\n",
      "Proportion weighting accuracy: 78.91 (last), 71.38 (average), 86.13 (best)\n",
      "\n"
     ]
    },
    {
     "name": "stderr",
     "output_type": "stream",
     "text": [
      " 90%|████████▉ | 896/1000 [10:02<01:01,  1.69it/s]"
     ]
    },
    {
     "name": "stdout",
     "output_type": "stream",
     "text": [
      "\n",
      "All activity accuracy: 78.32 (last), 70.38 (average), 84.38 (best)\n",
      "Proportion weighting accuracy: 78.12 (last), 71.50 (average), 86.13 (best)\n",
      "\n"
     ]
    },
    {
     "name": "stderr",
     "output_type": "stream",
     "text": [
      " 91%|█████████ | 912/1000 [10:13<00:59,  1.47it/s]"
     ]
    },
    {
     "name": "stdout",
     "output_type": "stream",
     "text": [
      "\n",
      "All activity accuracy: 79.10 (last), 70.53 (average), 84.38 (best)\n",
      "Proportion weighting accuracy: 81.45 (last), 71.68 (average), 86.13 (best)\n",
      "\n"
     ]
    },
    {
     "name": "stderr",
     "output_type": "stream",
     "text": [
      " 93%|█████████▎| 928/1000 [10:23<00:46,  1.56it/s]"
     ]
    },
    {
     "name": "stdout",
     "output_type": "stream",
     "text": [
      "\n",
      "All activity accuracy: 82.23 (last), 70.73 (average), 84.38 (best)\n",
      "Proportion weighting accuracy: 83.40 (last), 71.88 (average), 86.13 (best)\n",
      "\n"
     ]
    },
    {
     "name": "stderr",
     "output_type": "stream",
     "text": [
      " 94%|█████████▍| 944/1000 [10:34<00:39,  1.42it/s]"
     ]
    },
    {
     "name": "stdout",
     "output_type": "stream",
     "text": [
      "\n",
      "All activity accuracy: 81.84 (last), 70.92 (average), 84.38 (best)\n",
      "Proportion weighting accuracy: 83.01 (last), 72.07 (average), 86.13 (best)\n",
      "\n"
     ]
    },
    {
     "name": "stderr",
     "output_type": "stream",
     "text": [
      " 96%|█████████▌| 960/1000 [10:44<00:27,  1.47it/s]"
     ]
    },
    {
     "name": "stdout",
     "output_type": "stream",
     "text": [
      "\n",
      "All activity accuracy: 79.49 (last), 71.06 (average), 84.38 (best)\n",
      "Proportion weighting accuracy: 81.45 (last), 72.22 (average), 86.13 (best)\n",
      "\n"
     ]
    },
    {
     "name": "stderr",
     "output_type": "stream",
     "text": [
      " 98%|█████████▊| 976/1000 [10:55<00:14,  1.65it/s]"
     ]
    },
    {
     "name": "stdout",
     "output_type": "stream",
     "text": [
      "\n",
      "All activity accuracy: 79.49 (last), 71.20 (average), 84.38 (best)\n",
      "Proportion weighting accuracy: 79.88 (last), 72.35 (average), 86.13 (best)\n",
      "\n"
     ]
    },
    {
     "name": "stderr",
     "output_type": "stream",
     "text": [
      " 99%|█████████▉| 992/1000 [11:05<00:04,  1.65it/s]"
     ]
    },
    {
     "name": "stdout",
     "output_type": "stream",
     "text": [
      "\n",
      "All activity accuracy: 75.39 (last), 71.27 (average), 84.38 (best)\n",
      "Proportion weighting accuracy: 76.76 (last), 72.42 (average), 86.13 (best)\n",
      "\n"
     ]
    },
    {
     "name": "stderr",
     "output_type": "stream",
     "text": [
      "1001it [11:10,  1.70it/s]                          "
     ]
    },
    {
     "name": "stdout",
     "output_type": "stream",
     "text": [
      "Progress: 1 / 1 (671.0285 seconds)\n",
      "Training complete.\n",
      "\n"
     ]
    }
   ],
   "source": [
    "# Train the network.\n",
    "print(\"\\nBegin training.\\n\")\n",
    "start = t()\n",
    "\n",
    "for epoch in range(n_epochs):\n",
    "    labels = []\n",
    "\n",
    "    if epoch % progress_interval == 0:\n",
    "        print(\"\\n Progress: %d / %d (%.4f seconds)\" % (epoch, n_epochs, t() - start))\n",
    "        start = t()\n",
    "\n",
    "    # Create a dataloader to iterate and batch data\n",
    "    train_dataloader = DataLoader(\n",
    "        dataset,\n",
    "        batch_size=batch_size,\n",
    "        shuffle=True,\n",
    "        num_workers=n_workers,\n",
    "        pin_memory=gpu,\n",
    "    )\n",
    "\n",
    "    pbar_training = tqdm(total=n_train)\n",
    "    for step, batch in enumerate(train_dataloader):\n",
    "        if step > n_train:\n",
    "            break\n",
    "        # Get next input sample.\n",
    "        inputs = {\"X\": batch[\"encoded_image\"]}\n",
    "        if gpu:\n",
    "            inputs = {k: v.cuda() for k, v in inputs.items()}\n",
    "\n",
    "        if step % update_steps == 0 and step > 0:\n",
    "            # Convert the array of labels into a tensor\n",
    "            label_tensor = torch.tensor(labels, device=device)\n",
    "\n",
    "            # Get network predictions.\n",
    "            all_activity_pred = all_activity(\n",
    "                spikes=spike_record,\n",
    "                assignments=assignments,\n",
    "                n_labels=n_classes,\n",
    "            )\n",
    "            proportion_pred = proportion_weighting(\n",
    "                spikes=spike_record,\n",
    "                assignments=assignments,\n",
    "                proportions=proportions,\n",
    "                n_labels=n_classes,\n",
    "            )\n",
    "\n",
    "            # Compute network accuracy according to available classification strategies.\n",
    "            accuracy[\"all\"].append(\n",
    "                100\n",
    "                * torch.sum(label_tensor.long() == all_activity_pred).item()\n",
    "                / len(label_tensor)\n",
    "            )\n",
    "            accuracy[\"proportion\"].append(\n",
    "                100\n",
    "                * torch.sum(label_tensor.long() == proportion_pred).item()\n",
    "                / len(label_tensor)\n",
    "            )\n",
    "\n",
    "            print(\n",
    "                \"\\nAll activity accuracy: %.2f (last), %.2f (average), %.2f (best)\"\n",
    "                % (\n",
    "                    accuracy[\"all\"][-1],\n",
    "                    np.mean(accuracy[\"all\"]),\n",
    "                    np.max(accuracy[\"all\"]),\n",
    "                )\n",
    "            )\n",
    "            print(\n",
    "                \"Proportion weighting accuracy: %.2f (last), %.2f (average), %.2f\"\n",
    "                \" (best)\\n\"\n",
    "                % (\n",
    "                    accuracy[\"proportion\"][-1],\n",
    "                    np.mean(accuracy[\"proportion\"]),\n",
    "                    np.max(accuracy[\"proportion\"]),\n",
    "                )\n",
    "            )\n",
    "\n",
    "            # Assign labels to excitatory layer neurons.\n",
    "            assignments, proportions, rates = assign_labels(\n",
    "                spikes=spike_record,\n",
    "                labels=label_tensor,\n",
    "                n_labels=n_classes,\n",
    "                rates=rates,\n",
    "            )\n",
    "\n",
    "            labels = []\n",
    "\n",
    "        labels.extend(batch[\"label\"].tolist())\n",
    "\n",
    "        # Run the network on the input.\n",
    "        network.run(inputs=inputs, time=time, input_time_dim=1)\n",
    "\n",
    "        # Add to spikes recording.\n",
    "        s = spikes[\"Ae\"].get(\"s\").permute((1, 0, 2))\n",
    "        spike_record[\n",
    "            (step * batch_size)\n",
    "            % update_interval : (step * batch_size % update_interval)\n",
    "            + s.size(0)\n",
    "        ] = s\n",
    "\n",
    "        # Get voltage recording.\n",
    "        exc_voltages = exc_voltage_monitor.get(\"v\")\n",
    "        inh_voltages_1 = inh_voltage_monitor_1.get(\"v\")\n",
    "        inh_voltages_2 = inh_voltage_monitor_2.get(\"v\")\n",
    "\n",
    "#         # Optionally plot various simulation information.\n",
    "#         if plot:\n",
    "#             image = batch[\"image\"][:, 0].view(28, 28)\n",
    "#             inpt = inputs[\"X\"][:, 0].view(time, 784).sum(0).view(28, 28)\n",
    "#             input_exc_weights = network.connections[(\"X\", \"Ae\")].w\n",
    "#             square_weights = get_square_weights(\n",
    "#                 input_exc_weights.view(784, n_neurons), n_sqrt, 28\n",
    "#             )\n",
    "#             square_assignments = get_square_assignments(assignments, n_sqrt)\n",
    "#             spikes_ = {\n",
    "#                 layer: spikes[layer].get(\"s\")[:, 0].contiguous() for layer in spikes\n",
    "#             }\n",
    "#             voltages = {\"Ae\": exc_voltages, \"Ai\": inh_voltages}\n",
    "#             inpt_axes, inpt_ims = plot_input(\n",
    "#                 image, inpt, label=labels[step % update_steps], axes=inpt_axes, ims=inpt_ims\n",
    "#             )\n",
    "#             spike_ims, spike_axes = plot_spikes(spikes_, ims=spike_ims, axes=spike_axes)\n",
    "#             weights_im = plot_weights(square_weights, im=weights_im)\n",
    "#             assigns_im = plot_assignments(square_assignments, im=assigns_im)\n",
    "#             perf_ax = plot_performance(\n",
    "#                 accuracy, x_scale=update_steps * batch_size, ax=perf_ax\n",
    "#             )\n",
    "#             voltage_ims, voltage_axes = plot_voltages(\n",
    "#                 voltages, ims=voltage_ims, axes=voltage_axes, plot_type=\"line\"\n",
    "#             )\n",
    "\n",
    "#             plt.pause(1e-8)\n",
    "\n",
    "        network.reset_state_variables()  # Reset state variables.\n",
    "        pbar_training.update()\n",
    "\n",
    "print(\"Progress: %d / %d (%.4f seconds)\" % (epoch + 1, n_epochs, t() - start))\n",
    "print(\"Training complete.\\n\")"
   ]
  },
  {
   "cell_type": "code",
   "execution_count": null,
   "metadata": {},
   "outputs": [],
   "source": []
  }
 ],
 "metadata": {
  "kernelspec": {
   "display_name": "kongsr",
   "language": "python",
   "name": "kongsr"
  },
  "language_info": {
   "codemirror_mode": {
    "name": "ipython",
    "version": 3
   },
   "file_extension": ".py",
   "mimetype": "text/x-python",
   "name": "python",
   "nbconvert_exporter": "python",
   "pygments_lexer": "ipython3",
   "version": "3.7.7"
  }
 },
 "nbformat": 4,
 "nbformat_minor": 4
}
